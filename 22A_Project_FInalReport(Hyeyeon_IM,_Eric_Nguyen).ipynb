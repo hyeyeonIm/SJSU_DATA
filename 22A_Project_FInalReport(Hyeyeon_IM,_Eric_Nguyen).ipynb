{
  "nbformat": 4,
  "nbformat_minor": 0,
  "metadata": {
    "colab": {
      "provenance": [],
      "collapsed_sections": [
        "J7Sz45Jlh_2S",
        "5GM3OBLDkYhF",
        "uJ1Gz1yKmuOT"
      ],
      "include_colab_link": true
    },
    "kernelspec": {
      "name": "python3",
      "display_name": "Python 3"
    },
    "language_info": {
      "name": "python"
    }
  },
  "cells": [
    {
      "cell_type": "markdown",
      "metadata": {
        "id": "view-in-github",
        "colab_type": "text"
      },
      "source": [
        "<a href=\"https://colab.research.google.com/github/hyeyeonIm/SJSU_DATA/blob/main/22A_Project_FInalReport(Hyeyeon_IM%2C_Eric_Nguyen).ipynb\" target=\"_parent\"><img src=\"https://colab.research.google.com/assets/colab-badge.svg\" alt=\"Open In Colab\"/></a>"
      ]
    },
    {
      "cell_type": "markdown",
      "source": [
        "# CS 22A Project  \n",
        "22A Project FInal Report(Hyeyeon IM, Eric Nguyen)\n",
        "\n",
        "016756727 Hyeyeon IM   \n",
        "016244150 Eric Nguyen"
      ],
      "metadata": {
        "id": "N3eDVZxFMnuR"
      }
    },
    {
      "cell_type": "markdown",
      "source": [
        "Final Report Word Doc Link\n",
        "\n",
        "https://sjsu0-my.sharepoint.com/:w:/g/personal/hyeyeon_im_sjsu_edu/EXPxeiLiSYdLuD3xhRS1ROABiSwzpd0-lNBnloHJxlHt0w?e=ZkrMZp"
      ],
      "metadata": {
        "id": "2d4-xdhjsSKq"
      }
    },
    {
      "cell_type": "markdown",
      "source": [
        "# Introduction\n",
        "We learned many testing method in this class. Finally, we will test some dataset using some\n",
        "testing method. We will use Standard and Poor's 500 dataset. Our topic is the relationship between\n",
        "market cap and various variables. Our group will compare variables with market cap variables."
      ],
      "metadata": {
        "id": "eI30md32qCcT"
      }
    },
    {
      "cell_type": "markdown",
      "source": [
        "# 2. Theory\n",
        "\n",
        "## 2.1.Data Set"
      ],
      "metadata": {
        "id": "HFZwnwSWqIss"
      }
    },
    {
      "cell_type": "markdown",
      "source": [
        "##**S&P 500 Companies**\n",
        "\n",
        "<img src=\"https://t3.ftcdn.net/jpg/02/78/47/86/360_F_278478658_3VTuToNWgIsM81lAtrFuag3u2vrbuFbn.jpg\" width=660>  \n",
        "\n",
        "The Standard and Poor's 500 or S&P 500 is the most famous financial benchmark in the world. This stock market index tracks the performance of 500 large companies listed on stock exchanges in the United States. As of December 31, 2020, more than $5.4 trillion was invested in assets tied to the performance of this index.\n",
        "\n",
        "Here are the descriptions of this dataset:\n",
        "\n",
        "- `Exchange`: Exchange where its stocks are negotiated\n",
        "- `Symbol`: Stock symbol\n",
        "- `Shortname`: Company short name\n",
        "- `Longname`: Company long name\n",
        "- `Sector`: Sector where the company operates\n",
        "- `Industry`: Industry, within a sector, where the company operates.\n",
        "- `Currentprice`: Current stock price\n",
        "- `Marketcap`: Current marketcap\n",
        "- `Ebitda`: Earnings before interest, taxes, depreciation and amortization\n",
        "- `Revenuegrowth`: Revenue growth  \n",
        "- `City`: City\n",
        "- `State`: State\n",
        "- `Country`: Country\n",
        "- `Fulltimeemployees`: Number of full time employees\n",
        "- `Longbusinesssummary`: Summary of the company\n",
        "- `Weight`: Percentage of participation on the S&P index (marketcap %)"
      ],
      "metadata": {
        "id": "2vIondTnMimw"
      }
    },
    {
      "cell_type": "markdown",
      "source": [
        "## 2.2. Method\n",
        "There are three methods in this testing. We will use Variability, Normal Distribution:\n",
        "Visualizing Data with Graphs, Correlation."
      ],
      "metadata": {
        "id": "L6k1-nyDqUyl"
      }
    },
    {
      "cell_type": "markdown",
      "source": [
        "# Using Method\n",
        "1. Variability\n",
        "2. Normal Distribution : Visualizing Data with Graphs\n",
        "3. One-way ANOVA\n",
        "4. Correlation"
      ],
      "metadata": {
        "id": "BNRQcLd4qsH2"
      }
    },
    {
      "cell_type": "markdown",
      "source": [
        "# Data Analysis Method  \n",
        "\n",
        "##Variability\n",
        "1. class : https://colab.research.google.com/drive/1kPuPK0UWuerJAU_TbZxnpOjUTBzSMlbz  \n",
        "2. Variability is also referred to as spread, scatter or dispersion.\n",
        "\n",
        "##Normal Distribution : Visualizing Data with Graphs\n",
        "1. class : https://colab.research.google.com/drive/1NgPbdAbXnTVYWsaZQO3FErnD1Iv8yD8s?usp=sharing\n",
        "2. In statistics, a normal distribution is a type of continuous probability distribution for a real-valued random variable  \n",
        "It is an arrangement of a data set in which most values cluster in the middle of the range and the rest taper off symmetrically toward either extreme.  \n",
        "\n",
        "##One-way ANOVA  \n",
        "The One-way ANOVA is an extension of independent samples t-test (t-test used to compare the means between two independent groups, whereas in one-way ANOVA, means are compared among three or more independent groups) to determine whether there is statistical evidence that the associated population means are significantly different. We call it one-way because we only have one independent variable.  \n",
        "\n",
        "1) Independent variable : Market Cap - Company's worth Continuous value  \n",
        "\n",
        "2) Dependent variable : Sector - Discrete/Categorical variable  \n",
        "  → Sector is dependent variable and there are many level in that variable  \n",
        "  → So, we have to check how many and what kind of level in 'Sector' column  \n",
        "\n",
        "##Correlation\n",
        "1. class : https://colab.research.google.com/drive/1IoWymBe4YZTqoZWgNqexq9m3S6WA6pVP  \n",
        "2. Measure the correlation between quantative variables using Pearson correlation\n",
        "\n",
        "The Pearson correlation is used to measure the ***strength*** and ***direction*** of a linear relationship between two quantitative variables. The Pearson correlation can be used to measure the relationship between variables if the following conditions are met:\n",
        "\n",
        "1) The variables must be quantitative; variables cannot be categorical. Hence, the Pearson correlation can be used only if the values of each variable come from an interval or ratio scale.\n",
        "\n",
        "2) The relationship is not curvilinear. The Pearson correlation is designed to measure the direction and degree to which two variables are in a linear relationship. If the relationship between two variables is known to be curvilinear, the Pearson correlation cannot be used.\n",
        "\n",
        "3) Each variable must produce a wide range of its potential values. This is necessary to “capture” the relationship between the variables. If a limited or restricted range of potential values are measured you may not observe the true relationship.\n",
        "\n",
        "\n"
      ],
      "metadata": {
        "id": "VJKuGfW3wd6Z"
      }
    },
    {
      "cell_type": "markdown",
      "source": [
        "# The relationship between market cap and various variables\n",
        "1. Relationship between Sector and Market Cap\n",
        "2. Relationship between State and Market Cap\n",
        "3. Correlation between Full Time Employees and Market Cap\n",
        "4. Correlation between EBITDA and Market cap\n",
        "5. Correlation between Revenue and Marketcap"
      ],
      "metadata": {
        "id": "x-Fvvc1qqntD"
      }
    },
    {
      "cell_type": "markdown",
      "source": [
        "# 3. Testing\n",
        "##3.1.Relationship between Sector and Market Cap\n",
        "\n",
        "###3.1.1.Hypothesis  \n",
        "$H_o$ : Technology companies are worth the most compared to other companies\n",
        "\n",
        "$H_a$ : Technology companies are not worth the most compared to other companies\n",
        "\n",
        "###3.1.2. Using histogram for visualize average of Market Cap\n"
      ],
      "metadata": {
        "id": "6CRdhTUvqX9f"
      }
    },
    {
      "cell_type": "code",
      "execution_count": null,
      "metadata": {
        "colab": {
          "base_uri": "https://localhost:8080/",
          "height": 1000
        },
        "id": "LzEwqxJ0Mhun",
        "outputId": "f68a8785-2db1-447e-8aae-09aa663bc496"
      },
      "outputs": [
        {
          "output_type": "execute_result",
          "data": {
            "text/plain": [
              "    Exchange Symbol               Short Name                Long Name  \\\n",
              "0        NMS   AAPL               Apple Inc.               Apple Inc.   \n",
              "1        NMS   MSFT    Microsoft Corporation    Microsoft Corporation   \n",
              "2        NMS   GOOG            Alphabet Inc.            Alphabet Inc.   \n",
              "3        NMS  GOOGL            Alphabet Inc.            Alphabet Inc.   \n",
              "4        NMS   AMZN         Amazon.com, Inc.         Amazon.com, Inc.   \n",
              "..       ...    ...                      ...                      ...   \n",
              "489      NYQ    OGN            Organon & Co.            Organon & Co.   \n",
              "490      NYQ    MHK  Mohawk Industries, Inc.  Mohawk Industries, Inc.   \n",
              "491      NMS    NWL       Newell Brands Inc.       Newell Brands Inc.   \n",
              "492      NYQ    ALK   Alaska Air Group, Inc.   Alaska Air Group, Inc.   \n",
              "493      NYQ    VNO     Vornado Realty Trust     Vornado Realty Trust   \n",
              "\n",
              "                     Sector                            Industry  \\\n",
              "0                Technology                Consumer Electronics   \n",
              "1                Technology             Software—Infrastructure   \n",
              "2    Communication Services      Internet Content & Information   \n",
              "3    Communication Services      Internet Content & Information   \n",
              "4         Consumer Cyclical                     Internet Retail   \n",
              "..                      ...                                 ...   \n",
              "489              Healthcare          Drug Manufacturers—General   \n",
              "490       Consumer Cyclical  Furnishings, Fixtures & Appliances   \n",
              "491      Consumer Defensive       Household & Personal Products   \n",
              "492             Industrials                            Airlines   \n",
              "493             Real Estate                         REIT—Office   \n",
              "\n",
              "     Current Price     Market Cap        EBITDA  Revenue           City State  \\\n",
              "0           155.74  2502866501632  1.305410e+11    0.081      Cupertino    CA   \n",
              "1           235.87  1770907107328  9.798300e+10    0.124        Redmond    WA   \n",
              "2            96.58  1248045432832  9.373300e+10    0.061  Mountain View    CA   \n",
              "3            96.29  1248043597824  9.373300e+10    0.061  Mountain View    CA   \n",
              "4           103.41  1054957895680  5.154900e+10    0.147        Seattle    WA   \n",
              "..             ...            ...           ...      ...            ...   ...   \n",
              "489          26.18     6637939200  2.100000e+09    0.041    Jersey City    NJ   \n",
              "490          96.72     6551077888  1.888004e+09    0.067        Calhoun    GA   \n",
              "491          15.05     6402270208  1.390000e+09   -0.065        Atlanta    GA   \n",
              "492          44.43     5635234816  1.073000e+09    0.448        Seattle    WA   \n",
              "493          23.80     4562007552  8.103430e+08    0.163       New York    NY   \n",
              "\n",
              "           Country  Full Time Employees  \\\n",
              "0    United States             164000.0   \n",
              "1    United States             221000.0   \n",
              "2    United States             186779.0   \n",
              "3    United States             186779.0   \n",
              "4    United States            1544000.0   \n",
              "..             ...                  ...   \n",
              "489  United States               9300.0   \n",
              "490  United States              43000.0   \n",
              "491  United States              32000.0   \n",
              "492  United States              22354.0   \n",
              "493  United States               3224.0   \n",
              "\n",
              "                                      Business Summary    Weight  \n",
              "0    Apple Inc. designs, manufactures, and markets ...  0.072117  \n",
              "1    Microsoft Corporation develops, licenses, and ...  0.051026  \n",
              "2    Alphabet Inc. provides various products and pl...  0.035961  \n",
              "3    Alphabet Inc. provides various products and pl...  0.035961  \n",
              "4    Amazon.com, Inc. engages in the retail sale of...  0.030397  \n",
              "..                                                 ...       ...  \n",
              "489  Organon & Co., a health care company, develops...  0.000191  \n",
              "490  Mohawk Industries, Inc. designs, manufactures,...  0.000189  \n",
              "491  Newell Brands Inc. designs, manufactures, sour...  0.000184  \n",
              "492  Alaska Air Group, Inc., through its subsidiari...  0.000162  \n",
              "493  Vornado's portfolio is concentrated in the nat...  0.000131  \n",
              "\n",
              "[494 rows x 16 columns]"
            ],
            "text/html": [
              "\n",
              "  <div id=\"df-0c9ddebd-8ce9-4b1e-8399-bbf1dba27408\">\n",
              "    <div class=\"colab-df-container\">\n",
              "      <div>\n",
              "<style scoped>\n",
              "    .dataframe tbody tr th:only-of-type {\n",
              "        vertical-align: middle;\n",
              "    }\n",
              "\n",
              "    .dataframe tbody tr th {\n",
              "        vertical-align: top;\n",
              "    }\n",
              "\n",
              "    .dataframe thead th {\n",
              "        text-align: right;\n",
              "    }\n",
              "</style>\n",
              "<table border=\"1\" class=\"dataframe\">\n",
              "  <thead>\n",
              "    <tr style=\"text-align: right;\">\n",
              "      <th></th>\n",
              "      <th>Exchange</th>\n",
              "      <th>Symbol</th>\n",
              "      <th>Short Name</th>\n",
              "      <th>Long Name</th>\n",
              "      <th>Sector</th>\n",
              "      <th>Industry</th>\n",
              "      <th>Current Price</th>\n",
              "      <th>Market Cap</th>\n",
              "      <th>EBITDA</th>\n",
              "      <th>Revenue</th>\n",
              "      <th>City</th>\n",
              "      <th>State</th>\n",
              "      <th>Country</th>\n",
              "      <th>Full Time Employees</th>\n",
              "      <th>Business Summary</th>\n",
              "      <th>Weight</th>\n",
              "    </tr>\n",
              "  </thead>\n",
              "  <tbody>\n",
              "    <tr>\n",
              "      <th>0</th>\n",
              "      <td>NMS</td>\n",
              "      <td>AAPL</td>\n",
              "      <td>Apple Inc.</td>\n",
              "      <td>Apple Inc.</td>\n",
              "      <td>Technology</td>\n",
              "      <td>Consumer Electronics</td>\n",
              "      <td>155.74</td>\n",
              "      <td>2502866501632</td>\n",
              "      <td>1.305410e+11</td>\n",
              "      <td>0.081</td>\n",
              "      <td>Cupertino</td>\n",
              "      <td>CA</td>\n",
              "      <td>United States</td>\n",
              "      <td>164000.0</td>\n",
              "      <td>Apple Inc. designs, manufactures, and markets ...</td>\n",
              "      <td>0.072117</td>\n",
              "    </tr>\n",
              "    <tr>\n",
              "      <th>1</th>\n",
              "      <td>NMS</td>\n",
              "      <td>MSFT</td>\n",
              "      <td>Microsoft Corporation</td>\n",
              "      <td>Microsoft Corporation</td>\n",
              "      <td>Technology</td>\n",
              "      <td>Software—Infrastructure</td>\n",
              "      <td>235.87</td>\n",
              "      <td>1770907107328</td>\n",
              "      <td>9.798300e+10</td>\n",
              "      <td>0.124</td>\n",
              "      <td>Redmond</td>\n",
              "      <td>WA</td>\n",
              "      <td>United States</td>\n",
              "      <td>221000.0</td>\n",
              "      <td>Microsoft Corporation develops, licenses, and ...</td>\n",
              "      <td>0.051026</td>\n",
              "    </tr>\n",
              "    <tr>\n",
              "      <th>2</th>\n",
              "      <td>NMS</td>\n",
              "      <td>GOOG</td>\n",
              "      <td>Alphabet Inc.</td>\n",
              "      <td>Alphabet Inc.</td>\n",
              "      <td>Communication Services</td>\n",
              "      <td>Internet Content &amp; Information</td>\n",
              "      <td>96.58</td>\n",
              "      <td>1248045432832</td>\n",
              "      <td>9.373300e+10</td>\n",
              "      <td>0.061</td>\n",
              "      <td>Mountain View</td>\n",
              "      <td>CA</td>\n",
              "      <td>United States</td>\n",
              "      <td>186779.0</td>\n",
              "      <td>Alphabet Inc. provides various products and pl...</td>\n",
              "      <td>0.035961</td>\n",
              "    </tr>\n",
              "    <tr>\n",
              "      <th>3</th>\n",
              "      <td>NMS</td>\n",
              "      <td>GOOGL</td>\n",
              "      <td>Alphabet Inc.</td>\n",
              "      <td>Alphabet Inc.</td>\n",
              "      <td>Communication Services</td>\n",
              "      <td>Internet Content &amp; Information</td>\n",
              "      <td>96.29</td>\n",
              "      <td>1248043597824</td>\n",
              "      <td>9.373300e+10</td>\n",
              "      <td>0.061</td>\n",
              "      <td>Mountain View</td>\n",
              "      <td>CA</td>\n",
              "      <td>United States</td>\n",
              "      <td>186779.0</td>\n",
              "      <td>Alphabet Inc. provides various products and pl...</td>\n",
              "      <td>0.035961</td>\n",
              "    </tr>\n",
              "    <tr>\n",
              "      <th>4</th>\n",
              "      <td>NMS</td>\n",
              "      <td>AMZN</td>\n",
              "      <td>Amazon.com, Inc.</td>\n",
              "      <td>Amazon.com, Inc.</td>\n",
              "      <td>Consumer Cyclical</td>\n",
              "      <td>Internet Retail</td>\n",
              "      <td>103.41</td>\n",
              "      <td>1054957895680</td>\n",
              "      <td>5.154900e+10</td>\n",
              "      <td>0.147</td>\n",
              "      <td>Seattle</td>\n",
              "      <td>WA</td>\n",
              "      <td>United States</td>\n",
              "      <td>1544000.0</td>\n",
              "      <td>Amazon.com, Inc. engages in the retail sale of...</td>\n",
              "      <td>0.030397</td>\n",
              "    </tr>\n",
              "    <tr>\n",
              "      <th>...</th>\n",
              "      <td>...</td>\n",
              "      <td>...</td>\n",
              "      <td>...</td>\n",
              "      <td>...</td>\n",
              "      <td>...</td>\n",
              "      <td>...</td>\n",
              "      <td>...</td>\n",
              "      <td>...</td>\n",
              "      <td>...</td>\n",
              "      <td>...</td>\n",
              "      <td>...</td>\n",
              "      <td>...</td>\n",
              "      <td>...</td>\n",
              "      <td>...</td>\n",
              "      <td>...</td>\n",
              "      <td>...</td>\n",
              "    </tr>\n",
              "    <tr>\n",
              "      <th>489</th>\n",
              "      <td>NYQ</td>\n",
              "      <td>OGN</td>\n",
              "      <td>Organon &amp; Co.</td>\n",
              "      <td>Organon &amp; Co.</td>\n",
              "      <td>Healthcare</td>\n",
              "      <td>Drug Manufacturers—General</td>\n",
              "      <td>26.18</td>\n",
              "      <td>6637939200</td>\n",
              "      <td>2.100000e+09</td>\n",
              "      <td>0.041</td>\n",
              "      <td>Jersey City</td>\n",
              "      <td>NJ</td>\n",
              "      <td>United States</td>\n",
              "      <td>9300.0</td>\n",
              "      <td>Organon &amp; Co., a health care company, develops...</td>\n",
              "      <td>0.000191</td>\n",
              "    </tr>\n",
              "    <tr>\n",
              "      <th>490</th>\n",
              "      <td>NYQ</td>\n",
              "      <td>MHK</td>\n",
              "      <td>Mohawk Industries, Inc.</td>\n",
              "      <td>Mohawk Industries, Inc.</td>\n",
              "      <td>Consumer Cyclical</td>\n",
              "      <td>Furnishings, Fixtures &amp; Appliances</td>\n",
              "      <td>96.72</td>\n",
              "      <td>6551077888</td>\n",
              "      <td>1.888004e+09</td>\n",
              "      <td>0.067</td>\n",
              "      <td>Calhoun</td>\n",
              "      <td>GA</td>\n",
              "      <td>United States</td>\n",
              "      <td>43000.0</td>\n",
              "      <td>Mohawk Industries, Inc. designs, manufactures,...</td>\n",
              "      <td>0.000189</td>\n",
              "    </tr>\n",
              "    <tr>\n",
              "      <th>491</th>\n",
              "      <td>NMS</td>\n",
              "      <td>NWL</td>\n",
              "      <td>Newell Brands Inc.</td>\n",
              "      <td>Newell Brands Inc.</td>\n",
              "      <td>Consumer Defensive</td>\n",
              "      <td>Household &amp; Personal Products</td>\n",
              "      <td>15.05</td>\n",
              "      <td>6402270208</td>\n",
              "      <td>1.390000e+09</td>\n",
              "      <td>-0.065</td>\n",
              "      <td>Atlanta</td>\n",
              "      <td>GA</td>\n",
              "      <td>United States</td>\n",
              "      <td>32000.0</td>\n",
              "      <td>Newell Brands Inc. designs, manufactures, sour...</td>\n",
              "      <td>0.000184</td>\n",
              "    </tr>\n",
              "    <tr>\n",
              "      <th>492</th>\n",
              "      <td>NYQ</td>\n",
              "      <td>ALK</td>\n",
              "      <td>Alaska Air Group, Inc.</td>\n",
              "      <td>Alaska Air Group, Inc.</td>\n",
              "      <td>Industrials</td>\n",
              "      <td>Airlines</td>\n",
              "      <td>44.43</td>\n",
              "      <td>5635234816</td>\n",
              "      <td>1.073000e+09</td>\n",
              "      <td>0.448</td>\n",
              "      <td>Seattle</td>\n",
              "      <td>WA</td>\n",
              "      <td>United States</td>\n",
              "      <td>22354.0</td>\n",
              "      <td>Alaska Air Group, Inc., through its subsidiari...</td>\n",
              "      <td>0.000162</td>\n",
              "    </tr>\n",
              "    <tr>\n",
              "      <th>493</th>\n",
              "      <td>NYQ</td>\n",
              "      <td>VNO</td>\n",
              "      <td>Vornado Realty Trust</td>\n",
              "      <td>Vornado Realty Trust</td>\n",
              "      <td>Real Estate</td>\n",
              "      <td>REIT—Office</td>\n",
              "      <td>23.80</td>\n",
              "      <td>4562007552</td>\n",
              "      <td>8.103430e+08</td>\n",
              "      <td>0.163</td>\n",
              "      <td>New York</td>\n",
              "      <td>NY</td>\n",
              "      <td>United States</td>\n",
              "      <td>3224.0</td>\n",
              "      <td>Vornado's portfolio is concentrated in the nat...</td>\n",
              "      <td>0.000131</td>\n",
              "    </tr>\n",
              "  </tbody>\n",
              "</table>\n",
              "<p>494 rows × 16 columns</p>\n",
              "</div>\n",
              "      <button class=\"colab-df-convert\" onclick=\"convertToInteractive('df-0c9ddebd-8ce9-4b1e-8399-bbf1dba27408')\"\n",
              "              title=\"Convert this dataframe to an interactive table.\"\n",
              "              style=\"display:none;\">\n",
              "        \n",
              "  <svg xmlns=\"http://www.w3.org/2000/svg\" height=\"24px\"viewBox=\"0 0 24 24\"\n",
              "       width=\"24px\">\n",
              "    <path d=\"M0 0h24v24H0V0z\" fill=\"none\"/>\n",
              "    <path d=\"M18.56 5.44l.94 2.06.94-2.06 2.06-.94-2.06-.94-.94-2.06-.94 2.06-2.06.94zm-11 1L8.5 8.5l.94-2.06 2.06-.94-2.06-.94L8.5 2.5l-.94 2.06-2.06.94zm10 10l.94 2.06.94-2.06 2.06-.94-2.06-.94-.94-2.06-.94 2.06-2.06.94z\"/><path d=\"M17.41 7.96l-1.37-1.37c-.4-.4-.92-.59-1.43-.59-.52 0-1.04.2-1.43.59L10.3 9.45l-7.72 7.72c-.78.78-.78 2.05 0 2.83L4 21.41c.39.39.9.59 1.41.59.51 0 1.02-.2 1.41-.59l7.78-7.78 2.81-2.81c.8-.78.8-2.07 0-2.86zM5.41 20L4 18.59l7.72-7.72 1.47 1.35L5.41 20z\"/>\n",
              "  </svg>\n",
              "      </button>\n",
              "      \n",
              "  <style>\n",
              "    .colab-df-container {\n",
              "      display:flex;\n",
              "      flex-wrap:wrap;\n",
              "      gap: 12px;\n",
              "    }\n",
              "\n",
              "    .colab-df-convert {\n",
              "      background-color: #E8F0FE;\n",
              "      border: none;\n",
              "      border-radius: 50%;\n",
              "      cursor: pointer;\n",
              "      display: none;\n",
              "      fill: #1967D2;\n",
              "      height: 32px;\n",
              "      padding: 0 0 0 0;\n",
              "      width: 32px;\n",
              "    }\n",
              "\n",
              "    .colab-df-convert:hover {\n",
              "      background-color: #E2EBFA;\n",
              "      box-shadow: 0px 1px 2px rgba(60, 64, 67, 0.3), 0px 1px 3px 1px rgba(60, 64, 67, 0.15);\n",
              "      fill: #174EA6;\n",
              "    }\n",
              "\n",
              "    [theme=dark] .colab-df-convert {\n",
              "      background-color: #3B4455;\n",
              "      fill: #D2E3FC;\n",
              "    }\n",
              "\n",
              "    [theme=dark] .colab-df-convert:hover {\n",
              "      background-color: #434B5C;\n",
              "      box-shadow: 0px 1px 3px 1px rgba(0, 0, 0, 0.15);\n",
              "      filter: drop-shadow(0px 1px 2px rgba(0, 0, 0, 0.3));\n",
              "      fill: #FFFFFF;\n",
              "    }\n",
              "  </style>\n",
              "\n",
              "      <script>\n",
              "        const buttonEl =\n",
              "          document.querySelector('#df-0c9ddebd-8ce9-4b1e-8399-bbf1dba27408 button.colab-df-convert');\n",
              "        buttonEl.style.display =\n",
              "          google.colab.kernel.accessAllowed ? 'block' : 'none';\n",
              "\n",
              "        async function convertToInteractive(key) {\n",
              "          const element = document.querySelector('#df-0c9ddebd-8ce9-4b1e-8399-bbf1dba27408');\n",
              "          const dataTable =\n",
              "            await google.colab.kernel.invokeFunction('convertToInteractive',\n",
              "                                                     [key], {});\n",
              "          if (!dataTable) return;\n",
              "\n",
              "          const docLinkHtml = 'Like what you see? Visit the ' +\n",
              "            '<a target=\"_blank\" href=https://colab.research.google.com/notebooks/data_table.ipynb>data table notebook</a>'\n",
              "            + ' to learn more about interactive tables.';\n",
              "          element.innerHTML = '';\n",
              "          dataTable['output_type'] = 'display_data';\n",
              "          await google.colab.output.renderOutput(dataTable, element);\n",
              "          const docLink = document.createElement('div');\n",
              "          docLink.innerHTML = docLinkHtml;\n",
              "          element.appendChild(docLink);\n",
              "        }\n",
              "      </script>\n",
              "    </div>\n",
              "  </div>\n",
              "  "
            ]
          },
          "metadata": {},
          "execution_count": 35
        }
      ],
      "source": [
        "import pandas as pd\n",
        "data_url = 'https://raw.githubusercontent.com/csbfx/cs22a/main/sp500_companies.csv'\n",
        "\n",
        "sp500_df = pd.read_csv(data_url)\n",
        "sp500_df.columns = ['Exchange', 'Symbol', 'Short Name', 'Long Name', 'Sector', 'Industry', 'Current Price', 'Market Cap', 'EBITDA', 'Revenue', 'City', 'State', 'Country', 'Full Time Employees', 'Business Summary', 'Weight']\n",
        "# I renamed the columns so they are easier to read\n",
        "sp500_df"
      ]
    },
    {
      "cell_type": "code",
      "source": [
        "# Check what kind of companies in 'Sector'\n",
        "KindofSector=sp500_df.Sector.unique()\n",
        "\n",
        "count=0\n",
        "for sector in KindofSector:\n",
        "  print(sector)\n",
        "  count+=1\n",
        "print(f\"The number of the type of are : {count}\")"
      ],
      "metadata": {
        "colab": {
          "base_uri": "https://localhost:8080/"
        },
        "id": "vfA5P5gbm-X-",
        "outputId": "510420be-6dc2-4d2f-c704-e6c988816ab1"
      },
      "execution_count": null,
      "outputs": [
        {
          "output_type": "stream",
          "name": "stdout",
          "text": [
            "Technology\n",
            "Communication Services\n",
            "Consumer Cyclical\n",
            "Financial Services\n",
            "Healthcare\n",
            "Energy\n",
            "Consumer Defensive\n",
            "Utilities\n",
            "Basic Materials\n",
            "Industrials\n",
            "Real Estate\n",
            "The number of the type of are : 11\n"
          ]
        }
      ]
    },
    {
      "cell_type": "markdown",
      "source": [
        "First step is checking what kind of companies in ‘Sector’ and we will make other data\n",
        "frame by replaying Sector and Market Cap values.\n"
      ],
      "metadata": {
        "id": "5kMnybCsrO4K"
      }
    },
    {
      "cell_type": "code",
      "source": [
        "# Replace rows and columns\n",
        "\n",
        "Sector_marketcap = pd.DataFrame(\n",
        "{'Technology_M' : sp500_df[sp500_df.Sector == \"Technology\"]['Market Cap'],\n",
        " 'Communication Services_M' : sp500_df[sp500_df.Sector == \"Communication Services\"]['Market Cap'],\n",
        "'Consumer Cyclical_M' :  sp500_df[sp500_df.Sector == \"Consumer Cyclical\"]['Market Cap'],\n",
        "'Financial Services_M' :  sp500_df[sp500_df.Sector == \"Financial Services\"]['Market Cap'],\n",
        "'Healthcare_M' :  sp500_df[sp500_df.Sector == \"Healthcare\"]['Market Cap'],\n",
        "'Energy_M' :  sp500_df[sp500_df.Sector == \"Energy\"]['Market Cap'],\n",
        "'Consumer Defensive_M' :  sp500_df[sp500_df.Sector == \"Consumer Defensive\"]['Market Cap'],\n",
        "'Utilities_M' :  sp500_df[sp500_df.Sector == \"Utilities\"]['Market Cap'],\n",
        "'Basic Materials_M' :  sp500_df[sp500_df.Sector == \"Basic Materials\"]['Market Cap'],\n",
        "'Industrials_M' :  sp500_df[sp500_df.Sector == \"Industrials\"]['Market Cap'],\n",
        "'Real Estate_M' :  sp500_df[sp500_df.Sector == \"Real Estate\"]['Market Cap']\n",
        "}\n",
        ")\n",
        "\n",
        "Sector_marketcap  # We will use this data"
      ],
      "metadata": {
        "colab": {
          "base_uri": "https://localhost:8080/",
          "height": 485
        },
        "id": "2QRELNFlnCOJ",
        "outputId": "55f93ef1-af84-4cc9-d3b7-710d56c0fdf0"
      },
      "execution_count": null,
      "outputs": [
        {
          "output_type": "execute_result",
          "data": {
            "text/plain": [
              "     Technology_M  Communication Services_M  Consumer Cyclical_M  \\\n",
              "0    2.502867e+12                       NaN                  NaN   \n",
              "1    1.770907e+12                       NaN                  NaN   \n",
              "2             NaN              1.248045e+12                  NaN   \n",
              "3             NaN              1.248044e+12                  NaN   \n",
              "4             NaN                       NaN         1.054958e+12   \n",
              "..            ...                       ...                  ...   \n",
              "489           NaN                       NaN                  NaN   \n",
              "490           NaN                       NaN         6.551078e+09   \n",
              "491           NaN                       NaN                  NaN   \n",
              "492           NaN                       NaN                  NaN   \n",
              "493           NaN                       NaN                  NaN   \n",
              "\n",
              "     Financial Services_M  Healthcare_M  Energy_M  Consumer Defensive_M  \\\n",
              "0                     NaN           NaN       NaN                   NaN   \n",
              "1                     NaN           NaN       NaN                   NaN   \n",
              "2                     NaN           NaN       NaN                   NaN   \n",
              "3                     NaN           NaN       NaN                   NaN   \n",
              "4                     NaN           NaN       NaN                   NaN   \n",
              "..                    ...           ...       ...                   ...   \n",
              "489                   NaN  6.637939e+09       NaN                   NaN   \n",
              "490                   NaN           NaN       NaN                   NaN   \n",
              "491                   NaN           NaN       NaN          6.402270e+09   \n",
              "492                   NaN           NaN       NaN                   NaN   \n",
              "493                   NaN           NaN       NaN                   NaN   \n",
              "\n",
              "     Utilities_M  Basic Materials_M  Industrials_M  Real Estate_M  \n",
              "0            NaN                NaN            NaN            NaN  \n",
              "1            NaN                NaN            NaN            NaN  \n",
              "2            NaN                NaN            NaN            NaN  \n",
              "3            NaN                NaN            NaN            NaN  \n",
              "4            NaN                NaN            NaN            NaN  \n",
              "..           ...                ...            ...            ...  \n",
              "489          NaN                NaN            NaN            NaN  \n",
              "490          NaN                NaN            NaN            NaN  \n",
              "491          NaN                NaN            NaN            NaN  \n",
              "492          NaN                NaN   5.635235e+09            NaN  \n",
              "493          NaN                NaN            NaN   4.562008e+09  \n",
              "\n",
              "[494 rows x 11 columns]"
            ],
            "text/html": [
              "\n",
              "  <div id=\"df-e20d9af2-b901-4fdb-9977-3ae033dfaef9\">\n",
              "    <div class=\"colab-df-container\">\n",
              "      <div>\n",
              "<style scoped>\n",
              "    .dataframe tbody tr th:only-of-type {\n",
              "        vertical-align: middle;\n",
              "    }\n",
              "\n",
              "    .dataframe tbody tr th {\n",
              "        vertical-align: top;\n",
              "    }\n",
              "\n",
              "    .dataframe thead th {\n",
              "        text-align: right;\n",
              "    }\n",
              "</style>\n",
              "<table border=\"1\" class=\"dataframe\">\n",
              "  <thead>\n",
              "    <tr style=\"text-align: right;\">\n",
              "      <th></th>\n",
              "      <th>Technology_M</th>\n",
              "      <th>Communication Services_M</th>\n",
              "      <th>Consumer Cyclical_M</th>\n",
              "      <th>Financial Services_M</th>\n",
              "      <th>Healthcare_M</th>\n",
              "      <th>Energy_M</th>\n",
              "      <th>Consumer Defensive_M</th>\n",
              "      <th>Utilities_M</th>\n",
              "      <th>Basic Materials_M</th>\n",
              "      <th>Industrials_M</th>\n",
              "      <th>Real Estate_M</th>\n",
              "    </tr>\n",
              "  </thead>\n",
              "  <tbody>\n",
              "    <tr>\n",
              "      <th>0</th>\n",
              "      <td>2.502867e+12</td>\n",
              "      <td>NaN</td>\n",
              "      <td>NaN</td>\n",
              "      <td>NaN</td>\n",
              "      <td>NaN</td>\n",
              "      <td>NaN</td>\n",
              "      <td>NaN</td>\n",
              "      <td>NaN</td>\n",
              "      <td>NaN</td>\n",
              "      <td>NaN</td>\n",
              "      <td>NaN</td>\n",
              "    </tr>\n",
              "    <tr>\n",
              "      <th>1</th>\n",
              "      <td>1.770907e+12</td>\n",
              "      <td>NaN</td>\n",
              "      <td>NaN</td>\n",
              "      <td>NaN</td>\n",
              "      <td>NaN</td>\n",
              "      <td>NaN</td>\n",
              "      <td>NaN</td>\n",
              "      <td>NaN</td>\n",
              "      <td>NaN</td>\n",
              "      <td>NaN</td>\n",
              "      <td>NaN</td>\n",
              "    </tr>\n",
              "    <tr>\n",
              "      <th>2</th>\n",
              "      <td>NaN</td>\n",
              "      <td>1.248045e+12</td>\n",
              "      <td>NaN</td>\n",
              "      <td>NaN</td>\n",
              "      <td>NaN</td>\n",
              "      <td>NaN</td>\n",
              "      <td>NaN</td>\n",
              "      <td>NaN</td>\n",
              "      <td>NaN</td>\n",
              "      <td>NaN</td>\n",
              "      <td>NaN</td>\n",
              "    </tr>\n",
              "    <tr>\n",
              "      <th>3</th>\n",
              "      <td>NaN</td>\n",
              "      <td>1.248044e+12</td>\n",
              "      <td>NaN</td>\n",
              "      <td>NaN</td>\n",
              "      <td>NaN</td>\n",
              "      <td>NaN</td>\n",
              "      <td>NaN</td>\n",
              "      <td>NaN</td>\n",
              "      <td>NaN</td>\n",
              "      <td>NaN</td>\n",
              "      <td>NaN</td>\n",
              "    </tr>\n",
              "    <tr>\n",
              "      <th>4</th>\n",
              "      <td>NaN</td>\n",
              "      <td>NaN</td>\n",
              "      <td>1.054958e+12</td>\n",
              "      <td>NaN</td>\n",
              "      <td>NaN</td>\n",
              "      <td>NaN</td>\n",
              "      <td>NaN</td>\n",
              "      <td>NaN</td>\n",
              "      <td>NaN</td>\n",
              "      <td>NaN</td>\n",
              "      <td>NaN</td>\n",
              "    </tr>\n",
              "    <tr>\n",
              "      <th>...</th>\n",
              "      <td>...</td>\n",
              "      <td>...</td>\n",
              "      <td>...</td>\n",
              "      <td>...</td>\n",
              "      <td>...</td>\n",
              "      <td>...</td>\n",
              "      <td>...</td>\n",
              "      <td>...</td>\n",
              "      <td>...</td>\n",
              "      <td>...</td>\n",
              "      <td>...</td>\n",
              "    </tr>\n",
              "    <tr>\n",
              "      <th>489</th>\n",
              "      <td>NaN</td>\n",
              "      <td>NaN</td>\n",
              "      <td>NaN</td>\n",
              "      <td>NaN</td>\n",
              "      <td>6.637939e+09</td>\n",
              "      <td>NaN</td>\n",
              "      <td>NaN</td>\n",
              "      <td>NaN</td>\n",
              "      <td>NaN</td>\n",
              "      <td>NaN</td>\n",
              "      <td>NaN</td>\n",
              "    </tr>\n",
              "    <tr>\n",
              "      <th>490</th>\n",
              "      <td>NaN</td>\n",
              "      <td>NaN</td>\n",
              "      <td>6.551078e+09</td>\n",
              "      <td>NaN</td>\n",
              "      <td>NaN</td>\n",
              "      <td>NaN</td>\n",
              "      <td>NaN</td>\n",
              "      <td>NaN</td>\n",
              "      <td>NaN</td>\n",
              "      <td>NaN</td>\n",
              "      <td>NaN</td>\n",
              "    </tr>\n",
              "    <tr>\n",
              "      <th>491</th>\n",
              "      <td>NaN</td>\n",
              "      <td>NaN</td>\n",
              "      <td>NaN</td>\n",
              "      <td>NaN</td>\n",
              "      <td>NaN</td>\n",
              "      <td>NaN</td>\n",
              "      <td>6.402270e+09</td>\n",
              "      <td>NaN</td>\n",
              "      <td>NaN</td>\n",
              "      <td>NaN</td>\n",
              "      <td>NaN</td>\n",
              "    </tr>\n",
              "    <tr>\n",
              "      <th>492</th>\n",
              "      <td>NaN</td>\n",
              "      <td>NaN</td>\n",
              "      <td>NaN</td>\n",
              "      <td>NaN</td>\n",
              "      <td>NaN</td>\n",
              "      <td>NaN</td>\n",
              "      <td>NaN</td>\n",
              "      <td>NaN</td>\n",
              "      <td>NaN</td>\n",
              "      <td>5.635235e+09</td>\n",
              "      <td>NaN</td>\n",
              "    </tr>\n",
              "    <tr>\n",
              "      <th>493</th>\n",
              "      <td>NaN</td>\n",
              "      <td>NaN</td>\n",
              "      <td>NaN</td>\n",
              "      <td>NaN</td>\n",
              "      <td>NaN</td>\n",
              "      <td>NaN</td>\n",
              "      <td>NaN</td>\n",
              "      <td>NaN</td>\n",
              "      <td>NaN</td>\n",
              "      <td>NaN</td>\n",
              "      <td>4.562008e+09</td>\n",
              "    </tr>\n",
              "  </tbody>\n",
              "</table>\n",
              "<p>494 rows × 11 columns</p>\n",
              "</div>\n",
              "      <button class=\"colab-df-convert\" onclick=\"convertToInteractive('df-e20d9af2-b901-4fdb-9977-3ae033dfaef9')\"\n",
              "              title=\"Convert this dataframe to an interactive table.\"\n",
              "              style=\"display:none;\">\n",
              "        \n",
              "  <svg xmlns=\"http://www.w3.org/2000/svg\" height=\"24px\"viewBox=\"0 0 24 24\"\n",
              "       width=\"24px\">\n",
              "    <path d=\"M0 0h24v24H0V0z\" fill=\"none\"/>\n",
              "    <path d=\"M18.56 5.44l.94 2.06.94-2.06 2.06-.94-2.06-.94-.94-2.06-.94 2.06-2.06.94zm-11 1L8.5 8.5l.94-2.06 2.06-.94-2.06-.94L8.5 2.5l-.94 2.06-2.06.94zm10 10l.94 2.06.94-2.06 2.06-.94-2.06-.94-.94-2.06-.94 2.06-2.06.94z\"/><path d=\"M17.41 7.96l-1.37-1.37c-.4-.4-.92-.59-1.43-.59-.52 0-1.04.2-1.43.59L10.3 9.45l-7.72 7.72c-.78.78-.78 2.05 0 2.83L4 21.41c.39.39.9.59 1.41.59.51 0 1.02-.2 1.41-.59l7.78-7.78 2.81-2.81c.8-.78.8-2.07 0-2.86zM5.41 20L4 18.59l7.72-7.72 1.47 1.35L5.41 20z\"/>\n",
              "  </svg>\n",
              "      </button>\n",
              "      \n",
              "  <style>\n",
              "    .colab-df-container {\n",
              "      display:flex;\n",
              "      flex-wrap:wrap;\n",
              "      gap: 12px;\n",
              "    }\n",
              "\n",
              "    .colab-df-convert {\n",
              "      background-color: #E8F0FE;\n",
              "      border: none;\n",
              "      border-radius: 50%;\n",
              "      cursor: pointer;\n",
              "      display: none;\n",
              "      fill: #1967D2;\n",
              "      height: 32px;\n",
              "      padding: 0 0 0 0;\n",
              "      width: 32px;\n",
              "    }\n",
              "\n",
              "    .colab-df-convert:hover {\n",
              "      background-color: #E2EBFA;\n",
              "      box-shadow: 0px 1px 2px rgba(60, 64, 67, 0.3), 0px 1px 3px 1px rgba(60, 64, 67, 0.15);\n",
              "      fill: #174EA6;\n",
              "    }\n",
              "\n",
              "    [theme=dark] .colab-df-convert {\n",
              "      background-color: #3B4455;\n",
              "      fill: #D2E3FC;\n",
              "    }\n",
              "\n",
              "    [theme=dark] .colab-df-convert:hover {\n",
              "      background-color: #434B5C;\n",
              "      box-shadow: 0px 1px 3px 1px rgba(0, 0, 0, 0.15);\n",
              "      filter: drop-shadow(0px 1px 2px rgba(0, 0, 0, 0.3));\n",
              "      fill: #FFFFFF;\n",
              "    }\n",
              "  </style>\n",
              "\n",
              "      <script>\n",
              "        const buttonEl =\n",
              "          document.querySelector('#df-e20d9af2-b901-4fdb-9977-3ae033dfaef9 button.colab-df-convert');\n",
              "        buttonEl.style.display =\n",
              "          google.colab.kernel.accessAllowed ? 'block' : 'none';\n",
              "\n",
              "        async function convertToInteractive(key) {\n",
              "          const element = document.querySelector('#df-e20d9af2-b901-4fdb-9977-3ae033dfaef9');\n",
              "          const dataTable =\n",
              "            await google.colab.kernel.invokeFunction('convertToInteractive',\n",
              "                                                     [key], {});\n",
              "          if (!dataTable) return;\n",
              "\n",
              "          const docLinkHtml = 'Like what you see? Visit the ' +\n",
              "            '<a target=\"_blank\" href=https://colab.research.google.com/notebooks/data_table.ipynb>data table notebook</a>'\n",
              "            + ' to learn more about interactive tables.';\n",
              "          element.innerHTML = '';\n",
              "          dataTable['output_type'] = 'display_data';\n",
              "          await google.colab.output.renderOutput(dataTable, element);\n",
              "          const docLink = document.createElement('div');\n",
              "          docLink.innerHTML = docLinkHtml;\n",
              "          element.appendChild(docLink);\n",
              "        }\n",
              "      </script>\n",
              "    </div>\n",
              "  </div>\n",
              "  "
            ]
          },
          "metadata": {},
          "execution_count": 37
        }
      ]
    },
    {
      "cell_type": "code",
      "source": [
        "temp = Sector_marketcap.mean()  # Get mean data\n",
        "temp = temp.to_frame()  # Create frame\n",
        "sector = temp.sort_values(by = 0, ascending = False)  # Sorting\n",
        "sector.columns = ['avg']\n",
        "sector"
      ],
      "metadata": {
        "colab": {
          "base_uri": "https://localhost:8080/",
          "height": 394
        },
        "id": "LLxEPO2rsG75",
        "outputId": "3f944c96-3418-434b-b4b1-2ea98843e469"
      },
      "execution_count": null,
      "outputs": [
        {
          "output_type": "execute_result",
          "data": {
            "text/plain": [
              "                                   avg\n",
              "Communication Services_M  1.698345e+11\n",
              "Technology_M              1.133726e+11\n",
              "Energy_M                  7.887903e+10\n",
              "Healthcare_M              7.835680e+10\n",
              "Consumer Defensive_M      7.800863e+10\n",
              "Financial Services_M      6.594960e+10\n",
              "Consumer Cyclical_M       5.707098e+10\n",
              "Industrials_M             4.178575e+10\n",
              "Basic Materials_M         3.706751e+10\n",
              "Utilities_M               3.280569e+10\n",
              "Real Estate_M             2.726910e+10"
            ],
            "text/html": [
              "\n",
              "  <div id=\"df-cba632db-2e52-44ad-8006-9909ccb6256c\">\n",
              "    <div class=\"colab-df-container\">\n",
              "      <div>\n",
              "<style scoped>\n",
              "    .dataframe tbody tr th:only-of-type {\n",
              "        vertical-align: middle;\n",
              "    }\n",
              "\n",
              "    .dataframe tbody tr th {\n",
              "        vertical-align: top;\n",
              "    }\n",
              "\n",
              "    .dataframe thead th {\n",
              "        text-align: right;\n",
              "    }\n",
              "</style>\n",
              "<table border=\"1\" class=\"dataframe\">\n",
              "  <thead>\n",
              "    <tr style=\"text-align: right;\">\n",
              "      <th></th>\n",
              "      <th>avg</th>\n",
              "    </tr>\n",
              "  </thead>\n",
              "  <tbody>\n",
              "    <tr>\n",
              "      <th>Communication Services_M</th>\n",
              "      <td>1.698345e+11</td>\n",
              "    </tr>\n",
              "    <tr>\n",
              "      <th>Technology_M</th>\n",
              "      <td>1.133726e+11</td>\n",
              "    </tr>\n",
              "    <tr>\n",
              "      <th>Energy_M</th>\n",
              "      <td>7.887903e+10</td>\n",
              "    </tr>\n",
              "    <tr>\n",
              "      <th>Healthcare_M</th>\n",
              "      <td>7.835680e+10</td>\n",
              "    </tr>\n",
              "    <tr>\n",
              "      <th>Consumer Defensive_M</th>\n",
              "      <td>7.800863e+10</td>\n",
              "    </tr>\n",
              "    <tr>\n",
              "      <th>Financial Services_M</th>\n",
              "      <td>6.594960e+10</td>\n",
              "    </tr>\n",
              "    <tr>\n",
              "      <th>Consumer Cyclical_M</th>\n",
              "      <td>5.707098e+10</td>\n",
              "    </tr>\n",
              "    <tr>\n",
              "      <th>Industrials_M</th>\n",
              "      <td>4.178575e+10</td>\n",
              "    </tr>\n",
              "    <tr>\n",
              "      <th>Basic Materials_M</th>\n",
              "      <td>3.706751e+10</td>\n",
              "    </tr>\n",
              "    <tr>\n",
              "      <th>Utilities_M</th>\n",
              "      <td>3.280569e+10</td>\n",
              "    </tr>\n",
              "    <tr>\n",
              "      <th>Real Estate_M</th>\n",
              "      <td>2.726910e+10</td>\n",
              "    </tr>\n",
              "  </tbody>\n",
              "</table>\n",
              "</div>\n",
              "      <button class=\"colab-df-convert\" onclick=\"convertToInteractive('df-cba632db-2e52-44ad-8006-9909ccb6256c')\"\n",
              "              title=\"Convert this dataframe to an interactive table.\"\n",
              "              style=\"display:none;\">\n",
              "        \n",
              "  <svg xmlns=\"http://www.w3.org/2000/svg\" height=\"24px\"viewBox=\"0 0 24 24\"\n",
              "       width=\"24px\">\n",
              "    <path d=\"M0 0h24v24H0V0z\" fill=\"none\"/>\n",
              "    <path d=\"M18.56 5.44l.94 2.06.94-2.06 2.06-.94-2.06-.94-.94-2.06-.94 2.06-2.06.94zm-11 1L8.5 8.5l.94-2.06 2.06-.94-2.06-.94L8.5 2.5l-.94 2.06-2.06.94zm10 10l.94 2.06.94-2.06 2.06-.94-2.06-.94-.94-2.06-.94 2.06-2.06.94z\"/><path d=\"M17.41 7.96l-1.37-1.37c-.4-.4-.92-.59-1.43-.59-.52 0-1.04.2-1.43.59L10.3 9.45l-7.72 7.72c-.78.78-.78 2.05 0 2.83L4 21.41c.39.39.9.59 1.41.59.51 0 1.02-.2 1.41-.59l7.78-7.78 2.81-2.81c.8-.78.8-2.07 0-2.86zM5.41 20L4 18.59l7.72-7.72 1.47 1.35L5.41 20z\"/>\n",
              "  </svg>\n",
              "      </button>\n",
              "      \n",
              "  <style>\n",
              "    .colab-df-container {\n",
              "      display:flex;\n",
              "      flex-wrap:wrap;\n",
              "      gap: 12px;\n",
              "    }\n",
              "\n",
              "    .colab-df-convert {\n",
              "      background-color: #E8F0FE;\n",
              "      border: none;\n",
              "      border-radius: 50%;\n",
              "      cursor: pointer;\n",
              "      display: none;\n",
              "      fill: #1967D2;\n",
              "      height: 32px;\n",
              "      padding: 0 0 0 0;\n",
              "      width: 32px;\n",
              "    }\n",
              "\n",
              "    .colab-df-convert:hover {\n",
              "      background-color: #E2EBFA;\n",
              "      box-shadow: 0px 1px 2px rgba(60, 64, 67, 0.3), 0px 1px 3px 1px rgba(60, 64, 67, 0.15);\n",
              "      fill: #174EA6;\n",
              "    }\n",
              "\n",
              "    [theme=dark] .colab-df-convert {\n",
              "      background-color: #3B4455;\n",
              "      fill: #D2E3FC;\n",
              "    }\n",
              "\n",
              "    [theme=dark] .colab-df-convert:hover {\n",
              "      background-color: #434B5C;\n",
              "      box-shadow: 0px 1px 3px 1px rgba(0, 0, 0, 0.15);\n",
              "      filter: drop-shadow(0px 1px 2px rgba(0, 0, 0, 0.3));\n",
              "      fill: #FFFFFF;\n",
              "    }\n",
              "  </style>\n",
              "\n",
              "      <script>\n",
              "        const buttonEl =\n",
              "          document.querySelector('#df-cba632db-2e52-44ad-8006-9909ccb6256c button.colab-df-convert');\n",
              "        buttonEl.style.display =\n",
              "          google.colab.kernel.accessAllowed ? 'block' : 'none';\n",
              "\n",
              "        async function convertToInteractive(key) {\n",
              "          const element = document.querySelector('#df-cba632db-2e52-44ad-8006-9909ccb6256c');\n",
              "          const dataTable =\n",
              "            await google.colab.kernel.invokeFunction('convertToInteractive',\n",
              "                                                     [key], {});\n",
              "          if (!dataTable) return;\n",
              "\n",
              "          const docLinkHtml = 'Like what you see? Visit the ' +\n",
              "            '<a target=\"_blank\" href=https://colab.research.google.com/notebooks/data_table.ipynb>data table notebook</a>'\n",
              "            + ' to learn more about interactive tables.';\n",
              "          element.innerHTML = '';\n",
              "          dataTable['output_type'] = 'display_data';\n",
              "          await google.colab.output.renderOutput(dataTable, element);\n",
              "          const docLink = document.createElement('div');\n",
              "          docLink.innerHTML = docLinkHtml;\n",
              "          element.appendChild(docLink);\n",
              "        }\n",
              "      </script>\n",
              "    </div>\n",
              "  </div>\n",
              "  "
            ]
          },
          "metadata": {},
          "execution_count": 38
        }
      ]
    },
    {
      "cell_type": "markdown",
      "source": [
        "We sort the Sector and Market cap dataset, so we can check the most worth sector is Communication Services, not Technology.   \n",
        "We can check that our hypothesis is wrong.  \n",
        "And it is just set of numbers so it is not convenient for checking the value. So, we use histogram for visualizing our dataset."
      ],
      "metadata": {
        "id": "TEFG4VjjrUXo"
      }
    },
    {
      "cell_type": "code",
      "source": [
        "print(f\"The most worth company type is {Sector_marketcap.mean().idxmax()}\")"
      ],
      "metadata": {
        "colab": {
          "base_uri": "https://localhost:8080/"
        },
        "id": "eIEhijvssLkf",
        "outputId": "0b9fb435-7ca4-43b3-81ee-3a0ff12887d0"
      },
      "execution_count": null,
      "outputs": [
        {
          "output_type": "stream",
          "name": "stdout",
          "text": [
            "The most worth company type is Communication Services_M\n"
          ]
        }
      ]
    },
    {
      "cell_type": "code",
      "source": [
        "import seaborn as sns\n",
        "import matplotlib.pyplot as plt\n",
        "\n",
        "fig = plt.figure(figsize = (24, 5)) # size of plot(x,y)\n",
        "\n",
        "# creating the bar plot\n",
        "plt.bar(sector.index , sector['avg'], # row, col\n",
        "        width = 0.3)\n",
        "\n",
        "plt.xlabel(\"Sector\")\n",
        "plt.ylabel(\"Average\")\n",
        "plt.title(\"Market Cap's Average of Sector\")\n",
        "plt.show()"
      ],
      "metadata": {
        "colab": {
          "base_uri": "https://localhost:8080/",
          "height": 351
        },
        "id": "hpVX2MJhsHjR",
        "outputId": "debbc51b-052e-41fe-eb4e-d55a4377eb93"
      },
      "execution_count": null,
      "outputs": [
        {
          "output_type": "display_data",
          "data": {
            "text/plain": [
              "<Figure size 1728x360 with 1 Axes>"
            ],
            "image/png": "[encoded data removed]"
          },
          "metadata": {
            "needs_background": "light"
          }
        }
      ]
    },
    {
      "cell_type": "markdown",
      "source": [
        "This histogram allows us to compare values more visually. In other words, values can be viewed more intuitively. Through this histogram, we can check our hypothesis again.\n"
      ],
      "metadata": {
        "id": "upnCMfTlriqs"
      }
    },
    {
      "cell_type": "markdown",
      "source": [
        "##3.1.3. Measures of Variability"
      ],
      "metadata": {
        "id": "iDgMTGg9faW9"
      }
    },
    {
      "cell_type": "code",
      "source": [
        "import seaborn as sns\n",
        "import matplotlib.pyplot as plt\n",
        "\n",
        "fig = plt.figure(figsize = (24, 30)) # size of plot(x,y)\n",
        "sns.boxplot(x=\"Sector\", y=\"Market Cap\", data=sp500_df).set_title(\"Relationship between Sector and Market Cap\")\n",
        "plt.show()"
      ],
      "metadata": {
        "colab": {
          "base_uri": "https://localhost:8080/",
          "height": 1000
        },
        "id": "TaKt10e_fZ1s",
        "outputId": "d5fc8b31-aba2-47a6-fc60-2329fe557fa8"
      },
      "execution_count": null,
      "outputs": [
        {
          "output_type": "display_data",
          "data": {
            "text/plain": [
              "<Figure size 1728x2160 with 1 Axes>"
            ],
            "image/png": "[encoded data removed]"
          },
          "metadata": {
            "needs_background": "light"
          }
        }
      ]
    },
    {
      "cell_type": "markdown",
      "source": [
        "We want to check measures of variability. In this result, you can see some strange dots on the plot. It is called outliers. And we must remove outliers. The reason we want to thin out the outliers is that the universal relationship between the variables can be distorted by them. And what we're trying to figure out through quantitative analysis is not the variables themselves, but the relationship between the variables."
      ],
      "metadata": {
        "id": "LzBTeZoqrpds"
      }
    },
    {
      "cell_type": "markdown",
      "source": [
        "Before removing outliers, we must calculate IQR. IQR is q3-q1. Outlier is large < Q1 - 1.5 * IQR or large > Q3 + 1.5 * IQR. I will show Technology example."
      ],
      "metadata": {
        "id": "aGz7v9OprxtB"
      }
    },
    {
      "cell_type": "markdown",
      "source": [
        "### Some values look like outliers. Let's check it!\n",
        "Outlier is  \n",
        "\n",
        "$\\large < Q1 - 1.5 * IQR$  \n",
        "\n",
        "or\n",
        "\n",
        "$\\large > Q3 + 1.5 * IQR$"
      ],
      "metadata": {
        "id": "J7Sz45Jlh_2S"
      }
    },
    {
      "cell_type": "markdown",
      "source": [
        "In Technology"
      ],
      "metadata": {
        "id": "237kJzDJjuuJ"
      }
    },
    {
      "cell_type": "code",
      "source": [
        "# Find Q1\n",
        "import numpy as np\n",
        "\n",
        "tech=list(Sector_marketcap['Technology_M'].dropna())\n",
        "tech.sort()\n",
        "\n",
        "q1 = np.percentile(tech, 25)\n",
        "print(f'Q1 is {q1}')\n",
        "\n",
        "# Find Q2\n",
        "q2 = np.percentile(tech, 50)\n",
        "print(f'Q2 is {q2}')\n",
        "\n",
        "# Find Q3\n",
        "q3 = np.percentile(tech, 75)\n",
        "print(f'Q3 is {q3}')\n",
        "\n",
        "# The IQR value is Q3 - Q1\n",
        "iqr=q3-q1\n",
        "print(f'IQR(Q3-Q1) is {iqr}')"
      ],
      "metadata": {
        "colab": {
          "base_uri": "https://localhost:8080/"
        },
        "id": "CniaL0EliF-i",
        "outputId": "51ee6b01-196a-4aef-bb73-8b27f323925f"
      },
      "execution_count": null,
      "outputs": [
        {
          "output_type": "stream",
          "name": "stdout",
          "text": [
            "Q1 is 15239312384.0\n",
            "Q2 is 30370295808.0\n",
            "Q3 is 71128838144.0\n",
            "IQR(Q3-Q1) is 55889525760.0\n"
          ]
        }
      ]
    },
    {
      "cell_type": "markdown",
      "source": [
        "First, the reason why we use dropna() function is removing NaN and inf values for calculating. And if we import numpy, then it is easier to calculate."
      ],
      "metadata": {
        "id": "XkZU7oEbr7B7"
      }
    },
    {
      "cell_type": "markdown",
      "source": [
        "### Check the outliers"
      ],
      "metadata": {
        "id": "5GM3OBLDkYhF"
      }
    },
    {
      "cell_type": "code",
      "source": [
        "tech_outlier=[]\n",
        "\n",
        "for mc in tech:\n",
        "  if mc < q1-(1.5*iqr) or mc > q3 + (1.5*iqr):\n",
        "    tech_outlier.append(mc)\n",
        "  else: continue\n",
        "\n",
        "print(f\"Outliers in Technology's Market Cap : {tech_outlier}\")"
      ],
      "metadata": {
        "colab": {
          "base_uri": "https://localhost:8080/"
        },
        "id": "l0W1_XRolgoh",
        "outputId": "bc60327b-fdce-4592-8cac-bd56df3c5f14"
      },
      "execution_count": null,
      "outputs": [
        {
          "output_type": "stream",
          "name": "stdout",
          "text": [
            "Outliers in Technology's Market Cap : [160574701568.0, 181470625792.0, 191528288256.0, 192491716608.0, 206586003456.0, 344743280640.0, 1770907107328.0, 2502866501632.0]\n"
          ]
        }
      ]
    },
    {
      "cell_type": "markdown",
      "source": [
        "After calculating IQR, we can judge what is outlier or not. By [Figure 7], we can check what is outlier in Technology’s market cap."
      ],
      "metadata": {
        "id": "gHIcbDz9stoe"
      }
    },
    {
      "cell_type": "code",
      "source": [
        "# Check outliers on other variables\n",
        "\n",
        "# Communication Services\n",
        "com_outlier=[]\n",
        "com=list(Sector_marketcap['Communication Services_M'].dropna())\n",
        "com.sort()\n",
        "\n",
        "for mc in com:\n",
        "  q1 = np.percentile(com, 25)\n",
        "  q3 = np.percentile(com, 75)\n",
        "  iqr=q3-q1\n",
        "  if mc < q1-(1.5*iqr) or mc > q3 + (1.5*iqr):\n",
        "    com_outlier.append(mc)\n",
        "  else: continue\n",
        "\n",
        "print(f\"Outliers in Communication Services's Market Cap : {com_outlier}\")\n",
        "\n",
        "# Consumer Cyclical\n",
        "cusC_outlier=[]\n",
        "cusC=list(Sector_marketcap['Consumer Cyclical_M'].dropna())\n",
        "cusC.sort()\n",
        "\n",
        "for mc in com:\n",
        "  q1 = np.percentile(cusC, 25)\n",
        "  q3 = np.percentile(cusC, 75)\n",
        "  iqr=q3-q1\n",
        "  if mc < q1-(1.5*iqr) or mc > q3 + (1.5*iqr):\n",
        "    cusC_outlier.append(mc)\n",
        "  else: continue\n",
        "\n",
        "print(f\"Outliers in Consumer Cyclical's Market Cap : {cusC_outlier}\")\n",
        "\n",
        "# Financial Services\n",
        "fiancial_outlier=[]\n",
        "fiancial=list(Sector_marketcap['Financial Services_M'].dropna())\n",
        "fiancial.sort()\n",
        "\n",
        "for mc in com:\n",
        "  q1 = np.percentile(fiancial, 25)\n",
        "  q3 = np.percentile(fiancial, 75)\n",
        "  iqr=q3-q1\n",
        "  if mc < q1-(1.5*iqr) or mc > q3 + (1.5*iqr):\n",
        "    fiancial_outlier.append(mc)\n",
        "  else: continue\n",
        "\n",
        "print(f\"Outliers in Financial Services's Market Cap : {fiancial_outlier}\")\n",
        "\n",
        "# Healthcare\n",
        "health_outlier=[]\n",
        "health=list(Sector_marketcap['Healthcare_M'].dropna())\n",
        "health.sort()\n",
        "\n",
        "for mc in com:\n",
        "  q1 = np.percentile(health, 25)\n",
        "  q3 = np.percentile(health, 75)\n",
        "  iqr=q3-q1\n",
        "  if mc < q1-(1.5*iqr) or mc > q3 + (1.5*iqr):\n",
        "    health_outlier.append(mc)\n",
        "  else: continue\n",
        "\n",
        "print(f\"Outliers in Healthcare's Market Cap : {health_outlier}\")\n",
        "\n",
        "# Energy\n",
        "energy_outlier=[]\n",
        "energy=list(Sector_marketcap['Energy_M'].dropna())\n",
        "energy.sort()\n",
        "\n",
        "for mc in com:\n",
        "  q1 = np.percentile(energy, 25)\n",
        "  q3 = np.percentile(energy, 75)\n",
        "  iqr=q3-q1\n",
        "  if mc < q1-(1.5*iqr) or mc > q3 + (1.5*iqr):\n",
        "    energy_outlier.append(mc)\n",
        "  else: continue\n",
        "\n",
        "print(f\"Outliers in Energy's Market Cap : {energy_outlier}\")\n",
        "\n",
        "# Consumer Defensive\n",
        "cusD_outlier=[]\n",
        "cusD=list(Sector_marketcap['Consumer Defensive_M'].dropna())\n",
        "cusD.sort()\n",
        "\n",
        "for mc in com:\n",
        "  q1 = np.percentile(cusD, 25)\n",
        "  q3 = np.percentile(cusD, 75)\n",
        "  iqr=q3-q1\n",
        "  if mc < q1-(1.5*iqr) or mc > q3 + (1.5*iqr):\n",
        "    cusD_outlier.append(mc)\n",
        "  else: continue\n",
        "\n",
        "print(f\"Outliers in Consumer Defensive's Market Cap : {cusD_outlier}\")\n",
        "\n",
        "# Utilities\n",
        "utility_outlier=[]\n",
        "utility=list(Sector_marketcap['Utilities_M'].dropna())\n",
        "utility.sort()\n",
        "\n",
        "for mc in com:\n",
        "  q1 = np.percentile(utility, 25)\n",
        "  q3 = np.percentile(utility, 75)\n",
        "  iqr=q3-q1\n",
        "  if mc < q1-(1.5*iqr) or mc > q3 + (1.5*iqr):\n",
        "    utility_outlier.append(mc)\n",
        "  else: continue\n",
        "\n",
        "print(f\"Outliers in Utilities's Market Cap : {utility_outlier}\")\n",
        "\n",
        "# Basic Materials\n",
        "material_outlier=[]\n",
        "material=list(Sector_marketcap['Basic Materials_M'].dropna())\n",
        "material.sort()\n",
        "\n",
        "for mc in com:\n",
        "  q1 = np.percentile(material, 25)\n",
        "  q3 = np.percentile(material, 75)\n",
        "  iqr=q3-q1\n",
        "  if mc < q1-(1.5*iqr) or mc > q3 + (1.5*iqr):\n",
        "    material_outlier.append(mc)\n",
        "  else: continue\n",
        "\n",
        "print(f\"Outliers in Basic Materials's Market Cap : {material_outlier}\")\n",
        "\n",
        "\n",
        "# Industrials\n",
        "indus_outlier=[]\n",
        "indus=list(Sector_marketcap['Industrials_M'].dropna())\n",
        "indus.sort()\n",
        "\n",
        "for mc in com:\n",
        "  q1 = np.percentile(indus, 25)\n",
        "  q3 = np.percentile(indus, 75)\n",
        "  iqr=q3-q1\n",
        "  if mc < q1-(1.5*iqr) or mc > q3 + (1.5*iqr):\n",
        "    indus_outlier.append(mc)\n",
        "  else: continue\n",
        "\n",
        "print(f\"Outliers in Industrials's Market Cap : {indus_outlier}\")\n",
        "\n",
        "# Real Estate\n",
        "realestate_outlier=[]\n",
        "realestate=list(Sector_marketcap['Real Estate_M'].dropna())\n",
        "realestate.sort()\n",
        "\n",
        "for mc in com:\n",
        "  q1 = np.percentile(realestate, 25)\n",
        "  q3 = np.percentile(realestate, 75)\n",
        "  iqr=q3-q1\n",
        "  if mc < q1-(1.5*iqr) or mc > q3 + (1.5*iqr):\n",
        "    realestate_outlier.append(mc)\n",
        "  else: continue\n",
        "\n",
        "print(f\"Outliers in Real Estate's Market Cap : {realestate_outlier}\")"
      ],
      "metadata": {
        "colab": {
          "base_uri": "https://localhost:8080/"
        },
        "id": "WcQkwVoMn7sj",
        "outputId": "b7a53308-b372-4a83-dea9-426d23c5f010"
      },
      "execution_count": null,
      "outputs": [
        {
          "output_type": "stream",
          "name": "stdout",
          "text": [
            "Outliers in Communication Services's Market Cap : [1248043597824.0, 1248045432832.0]\n",
            "Outliers in Consumer Cyclical's Market Cap : [130989768704.0, 131688480768.0, 145976999936.0, 158129618944.0, 188606545920.0, 192581074944.0, 1248043597824.0, 1248045432832.0]\n",
            "Outliers in Financial Services's Market Cap : [145976999936.0, 158129618944.0, 188606545920.0, 192581074944.0, 1248043597824.0, 1248045432832.0]\n",
            "Outliers in Healthcare's Market Cap : [192581074944.0, 1248043597824.0, 1248045432832.0]\n",
            "Outliers in Energy's Market Cap : [130989768704.0, 131688480768.0, 145976999936.0, 158129618944.0, 188606545920.0, 192581074944.0, 1248043597824.0, 1248045432832.0]\n",
            "Outliers in Consumer Defensive's Market Cap : [158129618944.0, 188606545920.0, 192581074944.0, 1248043597824.0, 1248045432832.0]\n",
            "Outliers in Utilities's Market Cap : [130989768704.0, 131688480768.0, 145976999936.0, 158129618944.0, 188606545920.0, 192581074944.0, 1248043597824.0, 1248045432832.0]\n",
            "Outliers in Basic Materials's Market Cap : [130989768704.0, 131688480768.0, 145976999936.0, 158129618944.0, 188606545920.0, 192581074944.0, 1248043597824.0, 1248045432832.0]\n",
            "Outliers in Industrials's Market Cap : [130989768704.0, 131688480768.0, 145976999936.0, 158129618944.0, 188606545920.0, 192581074944.0, 1248043597824.0, 1248045432832.0]\n",
            "Outliers in Real Estate's Market Cap : [56991064064.0, 59159597056.0, 130989768704.0, 131688480768.0, 145976999936.0, 158129618944.0, 188606545920.0, 192581074944.0, 1248043597824.0, 1248045432832.0]\n"
          ]
        }
      ]
    },
    {
      "cell_type": "markdown",
      "source": [
        "### Let's remove outliers\n",
        "The reason we want to thin out out the outliers is that the universal relationship between the variables can be distorted by them. And what we're trying to figure out through quantitative analysis is not the variables themselves, but the relationship between the variables."
      ],
      "metadata": {
        "id": "uJ1Gz1yKmuOT"
      }
    },
    {
      "cell_type": "code",
      "source": [
        "# Remove outliers example by tech\n",
        "\n",
        "for outlier in tech_outlier:\n",
        "  if outlier in tech:\n",
        "    # Use to delete rows with specific values\n",
        "    sp500_df[(sp500_df['Sector'] == 'Technology') & (sp500_df['Market Cap'] == outlier)] = np.NaN\n",
        "  else: continue"
      ],
      "metadata": {
        "id": "y-yJ5jLnnN2R"
      },
      "execution_count": null,
      "outputs": []
    },
    {
      "cell_type": "markdown",
      "source": [
        "We can find locations on specific row and column and put the NaN value. The reason why we change the outlier value to the NaN value is that it can be removed at once with the dropna() function later."
      ],
      "metadata": {
        "id": "pNv3OP2Ls3Gb"
      }
    },
    {
      "cell_type": "code",
      "source": [
        "# Remove other variable's outliers\n",
        "\n",
        "# Communication Services\n",
        "for outlier in com_outlier:\n",
        "  if outlier in com:\n",
        "    sp500_df[(sp500_df['Sector'] == 'Communication Services') & (sp500_df['Market Cap'] == outlier)] = np.NaN\n",
        "  else: continue\n",
        "\n",
        "# Consumer Cyclical\n",
        "for outlier in cusC_outlier:\n",
        "  if outlier in cusC:\n",
        "    sp500_df[(sp500_df['Sector'] == 'Consumer Cyclical') & (sp500_df['Market Cap'] == outlier)] = np.NaN\n",
        "  else: continue\n",
        "\n",
        "# Financial Services\n",
        "for outlier in fiancial_outlier:\n",
        "  if outlier in fiancial:\n",
        "    sp500_df[(sp500_df['Sector'] == 'Financial Services') & (sp500_df['Market Cap'] == outlier)] = np.NaN\n",
        "  else: continue\n",
        "\n",
        "# Healthcare\n",
        "for outlier in health_outlier:\n",
        "  if outlier in health:\n",
        "    sp500_df[(sp500_df['Sector'] == 'Healthcare') & (sp500_df['Market Cap'] == outlier)] = np.NaN\n",
        "  else: continue\n",
        "\n",
        "# Energy\n",
        "for outlier in energy_outlier:\n",
        "  if outlier in energy:\n",
        "    sp500_df[(sp500_df['Sector'] == 'Energy') & (sp500_df['Market Cap'] == outlier)] = np.NaN\n",
        "  else: continue\n",
        "\n",
        "# Consumer Defensive\n",
        "for outlier in cusD_outlier:\n",
        "  if outlier in cusD:\n",
        "    sp500_df[(sp500_df['Sector'] == 'Consumer Defensive') & (sp500_df['Market Cap'] == outlier)] = np.NaN\n",
        "  else: continue\n",
        "\n",
        "# Utilities\n",
        "for outlier in utility_outlier:\n",
        "  if outlier in utility:\n",
        "    sp500_df[(sp500_df['Sector'] == 'Utilities') & (sp500_df['Market Cap'] == outlier)] = np.NaN\n",
        "  else: continue\n",
        "\n",
        "# Basic Materials\n",
        "for outlier in material_outlier:\n",
        "  if outlier in material:\n",
        "    sp500_df[(sp500_df['Sector'] == 'Basic Materials') & (sp500_df['Market Cap'] == outlier)] = np.NaN\n",
        "  else: continue\n",
        "\n",
        "# Industrials\n",
        "for outlier in indus_outlier:\n",
        "  if outlier in indus:\n",
        "    sp500_df[(sp500_df['Sector'] == 'Industrials') & (sp500_df['Market Cap'] == outlier)] = np.NaN\n",
        "  else: continue\n",
        "\n",
        "# Real Estate\n",
        "for outlier in realestate_outlier:\n",
        "  if outlier in realestate:\n",
        "    sp500_df[(sp500_df['Sector'] == 'Real Estate') & (sp500_df['Market Cap'] == outlier)] = np.NaN\n",
        "  else: continue"
      ],
      "metadata": {
        "id": "HHOecDlqq67b"
      },
      "execution_count": null,
      "outputs": []
    },
    {
      "cell_type": "markdown",
      "source": [
        "##Measures of Variability with removing outliers"
      ],
      "metadata": {
        "id": "JnfXnLbztPXo"
      }
    },
    {
      "cell_type": "code",
      "source": [
        "import seaborn as sns\n",
        "import matplotlib.pyplot as plt\n",
        "\n",
        "fig = plt.figure(figsize = (24, 15)) # size of plot(x,y)\n",
        "sns.boxplot(x=\"Sector\", y=\"Market Cap\", data=sp500_df,\n",
        "            order=['Technology',\n",
        "'Communication Services',\n",
        "'Consumer Cyclical',\n",
        "'Financial Services',\n",
        "'Healthcare',\n",
        "'Energy',\n",
        "'Consumer Defensive',\n",
        "'Utilities',\n",
        "'Basic Materials',\n",
        "'Industrials',\n",
        "'Real Estate']).set_title(\"Relationship between Sector and Market Cap (Removing outliers)\")\n",
        "\n",
        "plt.show()"
      ],
      "metadata": {
        "colab": {
          "base_uri": "https://localhost:8080/",
          "height": 893
        },
        "id": "iKtH2R5GtPzX",
        "outputId": "9f302d38-6082-4312-dfe9-0d1b76060e65"
      },
      "execution_count": null,
      "outputs": [
        {
          "output_type": "display_data",
          "data": {
            "text/plain": [
              "<Figure size 1728x1080 with 1 Axes>"
            ],
            "image/png": "[encoded data removed]"
          },
          "metadata": {
            "needs_background": "light"
          }
        }
      ]
    },
    {
      "cell_type": "markdown",
      "source": [
        "After removing outliers, we can check boxplot of Sector and Market again. Compared to not removing oulier plot, it can be visually confirmed that some values have disappeared. Through this, it can be confirmed that the outliers have been properly removed.\n",
        "\n",
        "\n",
        "\n",
        "We tried to measure of variability to see the variability, but it was not easy to check which sector has the largest market cap due to a similar average. Rather, it was easier to check the average of the market cap using a histogram."
      ],
      "metadata": {
        "id": "Nnl3iZ-Us50t"
      }
    },
    {
      "cell_type": "markdown",
      "source": [
        "###3.1.4. One-way ANOVA for proof hypothesis\n"
      ],
      "metadata": {
        "id": "GH_BaLKzKzaM"
      }
    },
    {
      "cell_type": "code",
      "source": [
        "# Replace rows and columns with removing outliers\n",
        "\n",
        "Sector_marketcap2 = pd.DataFrame(\n",
        "{'Technology_M' : sp500_df[sp500_df.Sector == \"Technology\"]['Market Cap'],\n",
        " 'Communication Services_M' : sp500_df[sp500_df.Sector == \"Communication Services\"]['Market Cap'],\n",
        "'Consumer Cyclical_M' :  sp500_df[sp500_df.Sector == \"Consumer Cyclical\"]['Market Cap'],\n",
        "'Financial Services_M' :  sp500_df[sp500_df.Sector == \"Financial Services\"]['Market Cap'],\n",
        "'Healthcare_M' :  sp500_df[sp500_df.Sector == \"Healthcare\"]['Market Cap'],\n",
        "'Energy_M' :  sp500_df[sp500_df.Sector == \"Energy\"]['Market Cap'],\n",
        "'Consumer Defensive_M' :  sp500_df[sp500_df.Sector == \"Consumer Defensive\"]['Market Cap'],\n",
        "'Utilities_M' :  sp500_df[sp500_df.Sector == \"Utilities\"]['Market Cap'],\n",
        "'Basic Materials_M' :  sp500_df[sp500_df.Sector == \"Basic Materials\"]['Market Cap'],\n",
        "'Industrials_M' :  sp500_df[sp500_df.Sector == \"Industrials\"]['Market Cap'],\n",
        "'Real Estate_M' :  sp500_df[sp500_df.Sector == \"Real Estate\"]['Market Cap']\n",
        "}\n",
        ")\n",
        "\n",
        "Sector_marketcap2  # We will use this data with removing outliers"
      ],
      "metadata": {
        "colab": {
          "base_uri": "https://localhost:8080/",
          "height": 485
        },
        "id": "FP_HHv8TLegY",
        "outputId": "c1efa1c9-d1ad-4652-eb71-888f439f9dee"
      },
      "execution_count": null,
      "outputs": [
        {
          "output_type": "execute_result",
          "data": {
            "text/plain": [
              "     Technology_M  Communication Services_M  Consumer Cyclical_M  \\\n",
              "4             NaN                       NaN         1.054958e+12   \n",
              "5             NaN                       NaN                  NaN   \n",
              "6             NaN                       NaN                  NaN   \n",
              "7             NaN                       NaN                  NaN   \n",
              "8             NaN                       NaN                  NaN   \n",
              "..            ...                       ...                  ...   \n",
              "489           NaN                       NaN                  NaN   \n",
              "490           NaN                       NaN         6.551078e+09   \n",
              "491           NaN                       NaN                  NaN   \n",
              "492           NaN                       NaN                  NaN   \n",
              "493           NaN                       NaN                  NaN   \n",
              "\n",
              "     Financial Services_M  Healthcare_M      Energy_M  Consumer Defensive_M  \\\n",
              "4                     NaN           NaN           NaN                   NaN   \n",
              "5            6.609628e+11           NaN           NaN                   NaN   \n",
              "6                     NaN  5.191859e+11           NaN                   NaN   \n",
              "7                     NaN           NaN  4.716573e+11                   NaN   \n",
              "8                     NaN  4.603628e+11           NaN                   NaN   \n",
              "..                    ...           ...           ...                   ...   \n",
              "489                   NaN  6.637939e+09           NaN                   NaN   \n",
              "490                   NaN           NaN           NaN                   NaN   \n",
              "491                   NaN           NaN           NaN          6.402270e+09   \n",
              "492                   NaN           NaN           NaN                   NaN   \n",
              "493                   NaN           NaN           NaN                   NaN   \n",
              "\n",
              "     Utilities_M  Basic Materials_M  Industrials_M  Real Estate_M  \n",
              "4            NaN                NaN            NaN            NaN  \n",
              "5            NaN                NaN            NaN            NaN  \n",
              "6            NaN                NaN            NaN            NaN  \n",
              "7            NaN                NaN            NaN            NaN  \n",
              "8            NaN                NaN            NaN            NaN  \n",
              "..           ...                ...            ...            ...  \n",
              "489          NaN                NaN            NaN            NaN  \n",
              "490          NaN                NaN            NaN            NaN  \n",
              "491          NaN                NaN            NaN            NaN  \n",
              "492          NaN                NaN   5.635235e+09            NaN  \n",
              "493          NaN                NaN            NaN   4.562008e+09  \n",
              "\n",
              "[484 rows x 11 columns]"
            ],
            "text/html": [
              "\n",
              "  <div id=\"df-4412b3e7-c6b0-4a19-8d89-143fa2e0f84f\">\n",
              "    <div class=\"colab-df-container\">\n",
              "      <div>\n",
              "<style scoped>\n",
              "    .dataframe tbody tr th:only-of-type {\n",
              "        vertical-align: middle;\n",
              "    }\n",
              "\n",
              "    .dataframe tbody tr th {\n",
              "        vertical-align: top;\n",
              "    }\n",
              "\n",
              "    .dataframe thead th {\n",
              "        text-align: right;\n",
              "    }\n",
              "</style>\n",
              "<table border=\"1\" class=\"dataframe\">\n",
              "  <thead>\n",
              "    <tr style=\"text-align: right;\">\n",
              "      <th></th>\n",
              "      <th>Technology_M</th>\n",
              "      <th>Communication Services_M</th>\n",
              "      <th>Consumer Cyclical_M</th>\n",
              "      <th>Financial Services_M</th>\n",
              "      <th>Healthcare_M</th>\n",
              "      <th>Energy_M</th>\n",
              "      <th>Consumer Defensive_M</th>\n",
              "      <th>Utilities_M</th>\n",
              "      <th>Basic Materials_M</th>\n",
              "      <th>Industrials_M</th>\n",
              "      <th>Real Estate_M</th>\n",
              "    </tr>\n",
              "  </thead>\n",
              "  <tbody>\n",
              "    <tr>\n",
              "      <th>4</th>\n",
              "      <td>NaN</td>\n",
              "      <td>NaN</td>\n",
              "      <td>1.054958e+12</td>\n",
              "      <td>NaN</td>\n",
              "      <td>NaN</td>\n",
              "      <td>NaN</td>\n",
              "      <td>NaN</td>\n",
              "      <td>NaN</td>\n",
              "      <td>NaN</td>\n",
              "      <td>NaN</td>\n",
              "      <td>NaN</td>\n",
              "    </tr>\n",
              "    <tr>\n",
              "      <th>5</th>\n",
              "      <td>NaN</td>\n",
              "      <td>NaN</td>\n",
              "      <td>NaN</td>\n",
              "      <td>6.609628e+11</td>\n",
              "      <td>NaN</td>\n",
              "      <td>NaN</td>\n",
              "      <td>NaN</td>\n",
              "      <td>NaN</td>\n",
              "      <td>NaN</td>\n",
              "      <td>NaN</td>\n",
              "      <td>NaN</td>\n",
              "    </tr>\n",
              "    <tr>\n",
              "      <th>6</th>\n",
              "      <td>NaN</td>\n",
              "      <td>NaN</td>\n",
              "      <td>NaN</td>\n",
              "      <td>NaN</td>\n",
              "      <td>5.191859e+11</td>\n",
              "      <td>NaN</td>\n",
              "      <td>NaN</td>\n",
              "      <td>NaN</td>\n",
              "      <td>NaN</td>\n",
              "      <td>NaN</td>\n",
              "      <td>NaN</td>\n",
              "    </tr>\n",
              "    <tr>\n",
              "      <th>7</th>\n",
              "      <td>NaN</td>\n",
              "      <td>NaN</td>\n",
              "      <td>NaN</td>\n",
              "      <td>NaN</td>\n",
              "      <td>NaN</td>\n",
              "      <td>4.716573e+11</td>\n",
              "      <td>NaN</td>\n",
              "      <td>NaN</td>\n",
              "      <td>NaN</td>\n",
              "      <td>NaN</td>\n",
              "      <td>NaN</td>\n",
              "    </tr>\n",
              "    <tr>\n",
              "      <th>8</th>\n",
              "      <td>NaN</td>\n",
              "      <td>NaN</td>\n",
              "      <td>NaN</td>\n",
              "      <td>NaN</td>\n",
              "      <td>4.603628e+11</td>\n",
              "      <td>NaN</td>\n",
              "      <td>NaN</td>\n",
              "      <td>NaN</td>\n",
              "      <td>NaN</td>\n",
              "      <td>NaN</td>\n",
              "      <td>NaN</td>\n",
              "    </tr>\n",
              "    <tr>\n",
              "      <th>...</th>\n",
              "      <td>...</td>\n",
              "      <td>...</td>\n",
              "      <td>...</td>\n",
              "      <td>...</td>\n",
              "      <td>...</td>\n",
              "      <td>...</td>\n",
              "      <td>...</td>\n",
              "      <td>...</td>\n",
              "      <td>...</td>\n",
              "      <td>...</td>\n",
              "      <td>...</td>\n",
              "    </tr>\n",
              "    <tr>\n",
              "      <th>489</th>\n",
              "      <td>NaN</td>\n",
              "      <td>NaN</td>\n",
              "      <td>NaN</td>\n",
              "      <td>NaN</td>\n",
              "      <td>6.637939e+09</td>\n",
              "      <td>NaN</td>\n",
              "      <td>NaN</td>\n",
              "      <td>NaN</td>\n",
              "      <td>NaN</td>\n",
              "      <td>NaN</td>\n",
              "      <td>NaN</td>\n",
              "    </tr>\n",
              "    <tr>\n",
              "      <th>490</th>\n",
              "      <td>NaN</td>\n",
              "      <td>NaN</td>\n",
              "      <td>6.551078e+09</td>\n",
              "      <td>NaN</td>\n",
              "      <td>NaN</td>\n",
              "      <td>NaN</td>\n",
              "      <td>NaN</td>\n",
              "      <td>NaN</td>\n",
              "      <td>NaN</td>\n",
              "      <td>NaN</td>\n",
              "      <td>NaN</td>\n",
              "    </tr>\n",
              "    <tr>\n",
              "      <th>491</th>\n",
              "      <td>NaN</td>\n",
              "      <td>NaN</td>\n",
              "      <td>NaN</td>\n",
              "      <td>NaN</td>\n",
              "      <td>NaN</td>\n",
              "      <td>NaN</td>\n",
              "      <td>6.402270e+09</td>\n",
              "      <td>NaN</td>\n",
              "      <td>NaN</td>\n",
              "      <td>NaN</td>\n",
              "      <td>NaN</td>\n",
              "    </tr>\n",
              "    <tr>\n",
              "      <th>492</th>\n",
              "      <td>NaN</td>\n",
              "      <td>NaN</td>\n",
              "      <td>NaN</td>\n",
              "      <td>NaN</td>\n",
              "      <td>NaN</td>\n",
              "      <td>NaN</td>\n",
              "      <td>NaN</td>\n",
              "      <td>NaN</td>\n",
              "      <td>NaN</td>\n",
              "      <td>5.635235e+09</td>\n",
              "      <td>NaN</td>\n",
              "    </tr>\n",
              "    <tr>\n",
              "      <th>493</th>\n",
              "      <td>NaN</td>\n",
              "      <td>NaN</td>\n",
              "      <td>NaN</td>\n",
              "      <td>NaN</td>\n",
              "      <td>NaN</td>\n",
              "      <td>NaN</td>\n",
              "      <td>NaN</td>\n",
              "      <td>NaN</td>\n",
              "      <td>NaN</td>\n",
              "      <td>NaN</td>\n",
              "      <td>4.562008e+09</td>\n",
              "    </tr>\n",
              "  </tbody>\n",
              "</table>\n",
              "<p>484 rows × 11 columns</p>\n",
              "</div>\n",
              "      <button class=\"colab-df-convert\" onclick=\"convertToInteractive('df-4412b3e7-c6b0-4a19-8d89-143fa2e0f84f')\"\n",
              "              title=\"Convert this dataframe to an interactive table.\"\n",
              "              style=\"display:none;\">\n",
              "        \n",
              "  <svg xmlns=\"http://www.w3.org/2000/svg\" height=\"24px\"viewBox=\"0 0 24 24\"\n",
              "       width=\"24px\">\n",
              "    <path d=\"M0 0h24v24H0V0z\" fill=\"none\"/>\n",
              "    <path d=\"M18.56 5.44l.94 2.06.94-2.06 2.06-.94-2.06-.94-.94-2.06-.94 2.06-2.06.94zm-11 1L8.5 8.5l.94-2.06 2.06-.94-2.06-.94L8.5 2.5l-.94 2.06-2.06.94zm10 10l.94 2.06.94-2.06 2.06-.94-2.06-.94-.94-2.06-.94 2.06-2.06.94z\"/><path d=\"M17.41 7.96l-1.37-1.37c-.4-.4-.92-.59-1.43-.59-.52 0-1.04.2-1.43.59L10.3 9.45l-7.72 7.72c-.78.78-.78 2.05 0 2.83L4 21.41c.39.39.9.59 1.41.59.51 0 1.02-.2 1.41-.59l7.78-7.78 2.81-2.81c.8-.78.8-2.07 0-2.86zM5.41 20L4 18.59l7.72-7.72 1.47 1.35L5.41 20z\"/>\n",
              "  </svg>\n",
              "      </button>\n",
              "      \n",
              "  <style>\n",
              "    .colab-df-container {\n",
              "      display:flex;\n",
              "      flex-wrap:wrap;\n",
              "      gap: 12px;\n",
              "    }\n",
              "\n",
              "    .colab-df-convert {\n",
              "      background-color: #E8F0FE;\n",
              "      border: none;\n",
              "      border-radius: 50%;\n",
              "      cursor: pointer;\n",
              "      display: none;\n",
              "      fill: #1967D2;\n",
              "      height: 32px;\n",
              "      padding: 0 0 0 0;\n",
              "      width: 32px;\n",
              "    }\n",
              "\n",
              "    .colab-df-convert:hover {\n",
              "      background-color: #E2EBFA;\n",
              "      box-shadow: 0px 1px 2px rgba(60, 64, 67, 0.3), 0px 1px 3px 1px rgba(60, 64, 67, 0.15);\n",
              "      fill: #174EA6;\n",
              "    }\n",
              "\n",
              "    [theme=dark] .colab-df-convert {\n",
              "      background-color: #3B4455;\n",
              "      fill: #D2E3FC;\n",
              "    }\n",
              "\n",
              "    [theme=dark] .colab-df-convert:hover {\n",
              "      background-color: #434B5C;\n",
              "      box-shadow: 0px 1px 3px 1px rgba(0, 0, 0, 0.15);\n",
              "      filter: drop-shadow(0px 1px 2px rgba(0, 0, 0, 0.3));\n",
              "      fill: #FFFFFF;\n",
              "    }\n",
              "  </style>\n",
              "\n",
              "      <script>\n",
              "        const buttonEl =\n",
              "          document.querySelector('#df-4412b3e7-c6b0-4a19-8d89-143fa2e0f84f button.colab-df-convert');\n",
              "        buttonEl.style.display =\n",
              "          google.colab.kernel.accessAllowed ? 'block' : 'none';\n",
              "\n",
              "        async function convertToInteractive(key) {\n",
              "          const element = document.querySelector('#df-4412b3e7-c6b0-4a19-8d89-143fa2e0f84f');\n",
              "          const dataTable =\n",
              "            await google.colab.kernel.invokeFunction('convertToInteractive',\n",
              "                                                     [key], {});\n",
              "          if (!dataTable) return;\n",
              "\n",
              "          const docLinkHtml = 'Like what you see? Visit the ' +\n",
              "            '<a target=\"_blank\" href=https://colab.research.google.com/notebooks/data_table.ipynb>data table notebook</a>'\n",
              "            + ' to learn more about interactive tables.';\n",
              "          element.innerHTML = '';\n",
              "          dataTable['output_type'] = 'display_data';\n",
              "          await google.colab.output.renderOutput(dataTable, element);\n",
              "          const docLink = document.createElement('div');\n",
              "          docLink.innerHTML = docLinkHtml;\n",
              "          element.appendChild(docLink);\n",
              "        }\n",
              "      </script>\n",
              "    </div>\n",
              "  </div>\n",
              "  "
            ]
          },
          "metadata": {},
          "execution_count": 48
        }
      ]
    },
    {
      "cell_type": "code",
      "source": [
        "# Find each group mean\n",
        "# Sector_marketcap2 ; we already have mean group data\n",
        "# And there sample sizes are different\n",
        "# calculate grand mean when groups have different sample sizes\n",
        "grand_mean = Sector_marketcap.mean().sum() / sp500_df['Sector'].count()\n",
        "\n",
        "def squared_dev(values_list, mean):\n",
        "  sq_dev = []\n",
        "  for xi in values_list:\n",
        "    sq_dev.append((xi - mean)**2)\n",
        "\n",
        "  return sq_dev\n",
        "\n",
        "xk = [Sector_marketcap2['Technology_M'].mean(), Sector_marketcap2['Communication Services_M'].mean(), Sector_marketcap2['Consumer Cyclical_M'].mean(),\n",
        "      Sector_marketcap2['Financial Services_M'].mean(), Sector_marketcap2['Healthcare_M'].mean(), Sector_marketcap2['Energy_M'].mean(), Sector_marketcap2['Consumer Defensive_M'].mean(),\n",
        "      Sector_marketcap2['Utilities_M'].mean(), Sector_marketcap2['Basic Materials_M'].mean(), Sector_marketcap2['Industrials_M'].mean(), Sector_marketcap2['Real Estate_M'].mean()]\n",
        "\n",
        "nk = [len(sp500_df.loc[sp500_df['Sector'] == \"Technology\"]), len(sp500_df.loc[sp500_df['Sector'] == \"Communication Services\"]),\n",
        "      len(sp500_df.loc[sp500_df['Sector'] == \"Consumer Cyclical\"]), len(sp500_df.loc[sp500_df['Sector'] == \"Financial Services\"]),len(sp500_df.loc[sp500_df['Sector'] == \"Healthcare\"]),\n",
        "      len(sp500_df.loc[sp500_df['Sector'] == \"Energy\"]), len(sp500_df.loc[sp500_df['Sector'] == \"Consumer Defensive\"]), len(sp500_df.loc[sp500_df['Sector'] == \"Utilities\"]),\n",
        "      len(sp500_df.loc[sp500_df['Sector'] == \"Basic Materials\"]), len(sp500_df.loc[sp500_df['Sector'] == \"Industrials\"]), len(sp500_df.loc[sp500_df['Sector'] == \"Real Estate\"])]\n",
        "\n",
        "sq_dev = squared_dev(xk,grand_mean)\n",
        "\n",
        "# we need to multiply sq_dev[0] with nk[0], then sq_dev[1] with nk[1]...etc\n",
        "temp = []\n",
        "for i in range(len(nk)):\n",
        "  temp.append(sq_dev[i]*nk[i])\n",
        "\n",
        "# Sample sizes are different: SSbetween  =  ∑nk(x¯k−x¯G)2\n",
        "ss_between = sum(temp)\n",
        "print(f\"SS_between: {ss_between}\")"
      ],
      "metadata": {
        "colab": {
          "base_uri": "https://localhost:8080/"
        },
        "id": "fAivuxR3K6uj",
        "outputId": "31e6a703-ce08-481a-f61e-9dd45b18a3bb"
      },
      "execution_count": null,
      "outputs": [
        {
          "output_type": "stream",
          "name": "stdout",
          "text": [
            "SS_between: 1.5330325603092277e+24\n"
          ]
        }
      ]
    },
    {
      "cell_type": "code",
      "source": [
        "tech_sq_dev = squared_dev(Sector_marketcap2['Technology_M'].dropna(), xk[0])\n",
        "com_sq_dev = squared_dev(Sector_marketcap2['Communication Services_M'].dropna(), xk[1])\n",
        "cusC_sq_dev = squared_dev(Sector_marketcap2['Consumer Cyclical_M'].dropna(), xk[2])\n",
        "financial_sq_dev = squared_dev(Sector_marketcap2['Financial Services_M'].dropna(), xk[3])\n",
        "health_sq_dev = squared_dev(Sector_marketcap2['Healthcare_M'].dropna(), xk[4])\n",
        "energy_sq_dev = squared_dev(Sector_marketcap2['Energy_M'].dropna(), xk[5])\n",
        "cusD_sq_dev = squared_dev(Sector_marketcap2['Consumer Defensive_M'].dropna(), xk[6])\n",
        "utilities_sq_dev = squared_dev(Sector_marketcap2['Utilities_M'].dropna(), xk[7])\n",
        "materials_sq_dev = squared_dev(Sector_marketcap2['Basic Materials_M'].dropna(), xk[8])\n",
        "indus_sq_dev = squared_dev(Sector_marketcap2['Industrials_M'].dropna(), xk[9])\n",
        "realestate_sq_dev = squared_dev( Sector_marketcap2['Real Estate_M'].dropna(), xk[10])\n",
        "\n",
        "ss_within =  sum(tech_sq_dev) + sum(com_sq_dev) + sum(cusC_sq_dev) + sum(financial_sq_dev) + sum(health_sq_dev) + sum(energy_sq_dev) + sum(cusD_sq_dev) + sum(utilities_sq_dev) + sum(materials_sq_dev) + sum(indus_sq_dev) + sum(realestate_sq_dev)\n",
        "print(f\"SS_within: {ss_within}\")"
      ],
      "metadata": {
        "id": "2IZzJY7gMG5O",
        "colab": {
          "base_uri": "https://localhost:8080/"
        },
        "outputId": "b99279ec-c474-4271-ee61-4b3349648997"
      },
      "execution_count": null,
      "outputs": [
        {
          "output_type": "stream",
          "name": "stdout",
          "text": [
            "SS_within: 3.4967906528385685e+24\n"
          ]
        }
      ]
    },
    {
      "cell_type": "code",
      "source": [
        "# k is the number of groups ; Sector number is 11\n",
        "k = 11\n",
        "df_between = k-1\n",
        "\n",
        "# N is the total number of values from all groups\n",
        "N = sum(nk)\n",
        "df_within = N-k\n",
        "\n",
        "print(f\"df_between: {df_between}\")\n",
        "print(f\"df_within: {df_within}\")"
      ],
      "metadata": {
        "id": "tiKMC_rpML5n",
        "colab": {
          "base_uri": "https://localhost:8080/"
        },
        "outputId": "5f6665a5-f4a9-4aa9-dc63-bd7cdcb24d44"
      },
      "execution_count": null,
      "outputs": [
        {
          "output_type": "stream",
          "name": "stdout",
          "text": [
            "df_between: 10\n",
            "df_within: 473\n"
          ]
        }
      ]
    },
    {
      "cell_type": "code",
      "source": [
        "ms_between = ss_between / df_between\n",
        "ms_within = ss_within / df_within\n",
        "\n",
        "print(f\"MS_between: {ms_between}\")\n",
        "print(f\"MS_within: {ms_within}\")"
      ],
      "metadata": {
        "id": "PUNsNq4oMRp9",
        "colab": {
          "base_uri": "https://localhost:8080/"
        },
        "outputId": "577372a7-e13d-4de5-a6de-ec5acd470c4d"
      },
      "execution_count": null,
      "outputs": [
        {
          "output_type": "stream",
          "name": "stdout",
          "text": [
            "MS_between: 1.5330325603092277e+23\n",
            "MS_within: 7.392792077882809e+21\n"
          ]
        }
      ]
    },
    {
      "cell_type": "code",
      "source": [
        "F = ms_between / ms_within\n",
        "print(f\"F-statistic: {F}\")"
      ],
      "metadata": {
        "id": "qX7KyPQaMTqu",
        "colab": {
          "base_uri": "https://localhost:8080/"
        },
        "outputId": "cdae8b35-283d-4458-a1c6-e2ec42aa5703"
      },
      "execution_count": null,
      "outputs": [
        {
          "output_type": "stream",
          "name": "stdout",
          "text": [
            "F-statistic: 20.736854819651125\n"
          ]
        }
      ]
    },
    {
      "cell_type": "markdown",
      "source": [
        "Find the F-critical value using the F-table with an  α  level of 0.05"
      ],
      "metadata": {
        "id": "5wW2hPyty39a"
      }
    },
    {
      "cell_type": "code",
      "source": [
        "# numerator degrees of freedom is df_between = 10\n",
        "# denominator degrees of freedom is df_within = 473\n",
        "F_crit = 2.039"
      ],
      "metadata": {
        "id": "Vzw-MmlwMZJG"
      },
      "execution_count": null,
      "outputs": []
    },
    {
      "cell_type": "markdown",
      "source": [
        "![image](https://user-images.githubusercontent.com/111658778/205207798-9753e853-fe08-47a5-b8ce-c1bc5086822f.png)\n"
      ],
      "metadata": {
        "id": "LSCmFz552q6M"
      }
    },
    {
      "cell_type": "code",
      "source": [
        "# Compare F-statistic with F-critical value. Do we reject or retain the null?\n",
        "if F > F_crit:\n",
        "  print('Reject the null')  # answer\n",
        "else:\n",
        "  print('Retain the null')"
      ],
      "metadata": {
        "id": "riF0zF2gMZj-",
        "colab": {
          "base_uri": "https://localhost:8080/"
        },
        "outputId": "cd1ac009-dd9f-4792-ec5f-c7d5120d1904"
      },
      "execution_count": null,
      "outputs": [
        {
          "output_type": "stream",
          "name": "stdout",
          "text": [
            "Reject the null\n"
          ]
        }
      ]
    },
    {
      "cell_type": "markdown",
      "source": [
        "It means at least one sector has significantly different market cap value."
      ],
      "metadata": {
        "id": "YIgkt6eA3vZo"
      }
    },
    {
      "cell_type": "markdown",
      "source": [
        "---------"
      ],
      "metadata": {
        "id": "jYRJPYfasjnm"
      }
    },
    {
      "cell_type": "markdown",
      "source": [
        "##3.2. Correlation between Full Time Employees and Market Cap\n",
        "## Method : Normal Distribution : Visualizing Data with Graphs, Correlation"
      ],
      "metadata": {
        "id": "n6zU6aLSZY0I"
      }
    },
    {
      "cell_type": "markdown",
      "source": [
        "### 3.2.1.Hypothesis\n",
        "$H_o$: There is no relationship between full time employees and market cap\n",
        "\n",
        "$H_a$: There is a relationship between full time employees and market cap"
      ],
      "metadata": {
        "id": "nxXFnuIy1Fhq"
      }
    },
    {
      "cell_type": "code",
      "source": [
        "import seaborn as sns\n",
        "\n",
        "sns.lmplot(data=sp500_df,\n",
        "            x = \"Market Cap\",\n",
        "            y = 'Full Time Employees',\n",
        "            ci=None)\n",
        "\n",
        "plt.title(\"Graph between Full Time Employees and Market Cap\", pad=20)\n",
        "plt.show()"
      ],
      "metadata": {
        "id": "n1ey2BPJqBUX",
        "colab": {
          "base_uri": "https://localhost:8080/",
          "height": 388
        },
        "outputId": "85fbc35d-4822-41a9-cb66-079820c63a1b"
      },
      "execution_count": null,
      "outputs": [
        {
          "output_type": "display_data",
          "data": {
            "text/plain": [
              "<Figure size 360x360 with 1 Axes>"
            ],
            "image/png": "[encoded data removed]"
          },
          "metadata": {
            "needs_background": "light"
          }
        }
      ]
    },
    {
      "cell_type": "markdown",
      "source": [
        "This graph shows us when Full Time Employees values are increase, almost Market Cap values are increase. You can see how the values are distributed through the points on the graph."
      ],
      "metadata": {
        "id": "tmarsLfdtnCu"
      }
    },
    {
      "cell_type": "code",
      "source": [
        "# Remove nan, inf values in sp500_df['Market Cap', 'Full Time Employees'] for calculate p-value\n",
        "FullTIme_MarketCap=sp500_df[['Market Cap', 'Full Time Employees']].dropna()\n",
        "FullTIme_MarketCap"
      ],
      "metadata": {
        "id": "aFcl8eX3AP5H",
        "colab": {
          "base_uri": "https://localhost:8080/",
          "height": 424
        },
        "outputId": "50050d35-0729-4316-acdc-d9b4c9756797"
      },
      "execution_count": null,
      "outputs": [
        {
          "output_type": "execute_result",
          "data": {
            "text/plain": [
              "       Market Cap  Full Time Employees\n",
              "4    1.054958e+12            1544000.0\n",
              "5    6.609628e+11             372000.0\n",
              "6    5.191859e+11             350000.0\n",
              "7    4.716573e+11              63000.0\n",
              "8    4.603628e+11             141700.0\n",
              "..            ...                  ...\n",
              "489  6.637939e+09               9300.0\n",
              "490  6.551078e+09              43000.0\n",
              "491  6.402270e+09              32000.0\n",
              "492  5.635235e+09              22354.0\n",
              "493  4.562008e+09               3224.0\n",
              "\n",
              "[478 rows x 2 columns]"
            ],
            "text/html": [
              "\n",
              "  <div id=\"df-1dba3112-39e8-4a35-8e48-a1719467a603\">\n",
              "    <div class=\"colab-df-container\">\n",
              "      <div>\n",
              "<style scoped>\n",
              "    .dataframe tbody tr th:only-of-type {\n",
              "        vertical-align: middle;\n",
              "    }\n",
              "\n",
              "    .dataframe tbody tr th {\n",
              "        vertical-align: top;\n",
              "    }\n",
              "\n",
              "    .dataframe thead th {\n",
              "        text-align: right;\n",
              "    }\n",
              "</style>\n",
              "<table border=\"1\" class=\"dataframe\">\n",
              "  <thead>\n",
              "    <tr style=\"text-align: right;\">\n",
              "      <th></th>\n",
              "      <th>Market Cap</th>\n",
              "      <th>Full Time Employees</th>\n",
              "    </tr>\n",
              "  </thead>\n",
              "  <tbody>\n",
              "    <tr>\n",
              "      <th>4</th>\n",
              "      <td>1.054958e+12</td>\n",
              "      <td>1544000.0</td>\n",
              "    </tr>\n",
              "    <tr>\n",
              "      <th>5</th>\n",
              "      <td>6.609628e+11</td>\n",
              "      <td>372000.0</td>\n",
              "    </tr>\n",
              "    <tr>\n",
              "      <th>6</th>\n",
              "      <td>5.191859e+11</td>\n",
              "      <td>350000.0</td>\n",
              "    </tr>\n",
              "    <tr>\n",
              "      <th>7</th>\n",
              "      <td>4.716573e+11</td>\n",
              "      <td>63000.0</td>\n",
              "    </tr>\n",
              "    <tr>\n",
              "      <th>8</th>\n",
              "      <td>4.603628e+11</td>\n",
              "      <td>141700.0</td>\n",
              "    </tr>\n",
              "    <tr>\n",
              "      <th>...</th>\n",
              "      <td>...</td>\n",
              "      <td>...</td>\n",
              "    </tr>\n",
              "    <tr>\n",
              "      <th>489</th>\n",
              "      <td>6.637939e+09</td>\n",
              "      <td>9300.0</td>\n",
              "    </tr>\n",
              "    <tr>\n",
              "      <th>490</th>\n",
              "      <td>6.551078e+09</td>\n",
              "      <td>43000.0</td>\n",
              "    </tr>\n",
              "    <tr>\n",
              "      <th>491</th>\n",
              "      <td>6.402270e+09</td>\n",
              "      <td>32000.0</td>\n",
              "    </tr>\n",
              "    <tr>\n",
              "      <th>492</th>\n",
              "      <td>5.635235e+09</td>\n",
              "      <td>22354.0</td>\n",
              "    </tr>\n",
              "    <tr>\n",
              "      <th>493</th>\n",
              "      <td>4.562008e+09</td>\n",
              "      <td>3224.0</td>\n",
              "    </tr>\n",
              "  </tbody>\n",
              "</table>\n",
              "<p>478 rows × 2 columns</p>\n",
              "</div>\n",
              "      <button class=\"colab-df-convert\" onclick=\"convertToInteractive('df-1dba3112-39e8-4a35-8e48-a1719467a603')\"\n",
              "              title=\"Convert this dataframe to an interactive table.\"\n",
              "              style=\"display:none;\">\n",
              "        \n",
              "  <svg xmlns=\"http://www.w3.org/2000/svg\" height=\"24px\"viewBox=\"0 0 24 24\"\n",
              "       width=\"24px\">\n",
              "    <path d=\"M0 0h24v24H0V0z\" fill=\"none\"/>\n",
              "    <path d=\"M18.56 5.44l.94 2.06.94-2.06 2.06-.94-2.06-.94-.94-2.06-.94 2.06-2.06.94zm-11 1L8.5 8.5l.94-2.06 2.06-.94-2.06-.94L8.5 2.5l-.94 2.06-2.06.94zm10 10l.94 2.06.94-2.06 2.06-.94-2.06-.94-.94-2.06-.94 2.06-2.06.94z\"/><path d=\"M17.41 7.96l-1.37-1.37c-.4-.4-.92-.59-1.43-.59-.52 0-1.04.2-1.43.59L10.3 9.45l-7.72 7.72c-.78.78-.78 2.05 0 2.83L4 21.41c.39.39.9.59 1.41.59.51 0 1.02-.2 1.41-.59l7.78-7.78 2.81-2.81c.8-.78.8-2.07 0-2.86zM5.41 20L4 18.59l7.72-7.72 1.47 1.35L5.41 20z\"/>\n",
              "  </svg>\n",
              "      </button>\n",
              "      \n",
              "  <style>\n",
              "    .colab-df-container {\n",
              "      display:flex;\n",
              "      flex-wrap:wrap;\n",
              "      gap: 12px;\n",
              "    }\n",
              "\n",
              "    .colab-df-convert {\n",
              "      background-color: #E8F0FE;\n",
              "      border: none;\n",
              "      border-radius: 50%;\n",
              "      cursor: pointer;\n",
              "      display: none;\n",
              "      fill: #1967D2;\n",
              "      height: 32px;\n",
              "      padding: 0 0 0 0;\n",
              "      width: 32px;\n",
              "    }\n",
              "\n",
              "    .colab-df-convert:hover {\n",
              "      background-color: #E2EBFA;\n",
              "      box-shadow: 0px 1px 2px rgba(60, 64, 67, 0.3), 0px 1px 3px 1px rgba(60, 64, 67, 0.15);\n",
              "      fill: #174EA6;\n",
              "    }\n",
              "\n",
              "    [theme=dark] .colab-df-convert {\n",
              "      background-color: #3B4455;\n",
              "      fill: #D2E3FC;\n",
              "    }\n",
              "\n",
              "    [theme=dark] .colab-df-convert:hover {\n",
              "      background-color: #434B5C;\n",
              "      box-shadow: 0px 1px 3px 1px rgba(0, 0, 0, 0.15);\n",
              "      filter: drop-shadow(0px 1px 2px rgba(0, 0, 0, 0.3));\n",
              "      fill: #FFFFFF;\n",
              "    }\n",
              "  </style>\n",
              "\n",
              "      <script>\n",
              "        const buttonEl =\n",
              "          document.querySelector('#df-1dba3112-39e8-4a35-8e48-a1719467a603 button.colab-df-convert');\n",
              "        buttonEl.style.display =\n",
              "          google.colab.kernel.accessAllowed ? 'block' : 'none';\n",
              "\n",
              "        async function convertToInteractive(key) {\n",
              "          const element = document.querySelector('#df-1dba3112-39e8-4a35-8e48-a1719467a603');\n",
              "          const dataTable =\n",
              "            await google.colab.kernel.invokeFunction('convertToInteractive',\n",
              "                                                     [key], {});\n",
              "          if (!dataTable) return;\n",
              "\n",
              "          const docLinkHtml = 'Like what you see? Visit the ' +\n",
              "            '<a target=\"_blank\" href=https://colab.research.google.com/notebooks/data_table.ipynb>data table notebook</a>'\n",
              "            + ' to learn more about interactive tables.';\n",
              "          element.innerHTML = '';\n",
              "          dataTable['output_type'] = 'display_data';\n",
              "          await google.colab.output.renderOutput(dataTable, element);\n",
              "          const docLink = document.createElement('div');\n",
              "          docLink.innerHTML = docLinkHtml;\n",
              "          element.appendChild(docLink);\n",
              "        }\n",
              "      </script>\n",
              "    </div>\n",
              "  </div>\n",
              "  "
            ]
          },
          "metadata": {},
          "execution_count": 61
        }
      ]
    },
    {
      "cell_type": "markdown",
      "source": [
        "We want to check Pearson correlation coefficient between Full Time Employees and Market cap and p-value for using Correlation method. Then length of Full Time Employees and length of Market Cap have to same. So, we remove Nan and inf values together in dataset."
      ],
      "metadata": {
        "id": "pAyjAVWFtpHi"
      }
    },
    {
      "cell_type": "markdown",
      "source": [
        "### Hypothesis Testing about the true population correlation\n",
        "\n",
        "r = the Pearson correlation coeffient between samples  \n",
        "$\\rho$ (rho) = the true Pearson correlation coeffient for population\n",
        "\n",
        "Here we hypothesize that:  \n",
        "$H_o$: $\\rho = 0$  \n",
        "$H_A$: $\\rho < 0$  (Negative directional)  \n",
        "&nbsp;&nbsp;&nbsp;&nbsp;&nbsp;&nbsp;&nbsp;&nbsp;&nbsp;$\\rho > 0$  (Positive directional)  \n",
        "&nbsp;&nbsp;&nbsp;&nbsp;&nbsp;&nbsp;&nbsp;&nbsp;&nbsp;$\\rho \\neq 0$ (Non-directional)"
      ],
      "metadata": {
        "id": "iPmCfE5LD28Z"
      }
    },
    {
      "cell_type": "code",
      "source": [
        "x_data = FullTIme_MarketCap['Market Cap']\n",
        "y_data = FullTIme_MarketCap['Full Time Employees']\n",
        "\n",
        "x = pd.Series(x_data)\n",
        "y = pd.Series(y_data)\n",
        "\n",
        "pearson_r_xy = x.corr(y)\n",
        "print(round(pearson_r_xy,3))\n",
        "\n",
        "pearson_r_yx = y.corr(x)\n",
        "print(round(pearson_r_yx,3))\n",
        "\n",
        "print(f\"Pearson correlation coeffient between x and y, r = {round(pearson_r_xy,3)}\")"
      ],
      "metadata": {
        "id": "nQBVBfiasoXj",
        "colab": {
          "base_uri": "https://localhost:8080/"
        },
        "outputId": "a61446e5-b5a1-46d5-ae50-525dec07e458"
      },
      "execution_count": null,
      "outputs": [
        {
          "output_type": "stream",
          "name": "stdout",
          "text": [
            "0.589\n",
            "0.589\n",
            "Pearson correlation coeffient between x and y, r = 0.589\n"
          ]
        }
      ]
    },
    {
      "cell_type": "markdown",
      "source": [
        "We can find Pearson correlation coefficient(r) like this. And based on the r value, 0.351, it appears that there is a weak positive relationship between Market Cap and Full Time Employees."
      ],
      "metadata": {
        "id": "3gBFaCu4trOz"
      }
    },
    {
      "cell_type": "code",
      "source": [
        "from scipy import stats\n",
        "import numpy as np\n",
        "\n",
        "pearson_corr, p_value = stats.pearsonr(x_data, y_data)\n",
        "print(f'The pearson correlation coeffient is {round(pearson_corr,3)}')\n",
        "print(f'The p-value is {round(p_value)}')"
      ],
      "metadata": {
        "id": "MN77O8vYeISe",
        "colab": {
          "base_uri": "https://localhost:8080/"
        },
        "outputId": "4655946d-ba06-4dc9-a5df-1e47c4f8a24c"
      },
      "execution_count": null,
      "outputs": [
        {
          "output_type": "stream",
          "name": "stdout",
          "text": [
            "The pearson correlation coeffient is 0.589\n",
            "The p-value is 0\n"
          ]
        }
      ]
    },
    {
      "cell_type": "markdown",
      "source": [
        "We can calculate Pearson correlation coefficient and p-value using by function. In this way,  "
      ],
      "metadata": {
        "id": "VJcnl7H8ttwC"
      }
    },
    {
      "cell_type": "code",
      "source": [
        "def pearsonr_ci(x, y, alpha=0.05):\n",
        "   r, p = stats.pearsonr(x,y) # find the Pearson correlation coeffient and the p_value\n",
        "   r_z = np.arctanh(r) # convert r value to z_score\n",
        "   se = 1/np.sqrt(len(x)-3) # find the standard error\n",
        "   z = stats.norm.ppf(1-alpha/2) # find the critical z-value for the alpha level\n",
        "   lo_z, hi_z = r_z-z*se, r_z+z*se # calculate the confidience interval with the z_score\n",
        "   lo, hi = np.tanh((lo_z, hi_z)) # convert the z_score confidence interval based on the r value.\n",
        "   return lo, hi"
      ],
      "metadata": {
        "id": "MG6RYrdPBWTH"
      },
      "execution_count": null,
      "outputs": []
    },
    {
      "cell_type": "code",
      "source": [
        "CI_lo, CI_hi = pearsonr_ci(x_data, y_data)\n",
        "print(f'The confidence interval of the Pearson correlation coefficient is ({round(CI_lo,4)}, {round(CI_hi,4)}).')"
      ],
      "metadata": {
        "id": "EVO6l3L8CWiS",
        "colab": {
          "base_uri": "https://localhost:8080/"
        },
        "outputId": "e2314a13-349f-4f1e-9cd6-404d9d3230a2"
      },
      "execution_count": null,
      "outputs": [
        {
          "output_type": "stream",
          "name": "stdout",
          "text": [
            "The confidence interval of the Pearson correlation coefficient is (0.5267, 0.6443).\n"
          ]
        }
      ]
    },
    {
      "cell_type": "markdown",
      "source": [
        "We can get the range of Pearson correlation coefficient like this. And we can judge something using these. If we set the alpha level at 0.05, based on the p-value and the Pearson correlation coefficient, do we have enough evidence to show that 'Full Time Employees' is related to 'Market Cap'?\n",
        "\n",
        "The confidence interval tells us that, at 95% confidence level, the population Pearson correlation coefficient is between 0.5267 and 0.6443. This range is way above 0, which means that there is a positive relationship between Market Cap and Full Time Employees. And the *p*-value 0 is less than 0.05 (α level). That means we have enough evidence to reject the null (ie: There is a significant relationship between Market Cap and Full Time Employees)."
      ],
      "metadata": {
        "id": "sVE5qudFtwOf"
      }
    },
    {
      "cell_type": "markdown",
      "source": [
        "---------"
      ],
      "metadata": {
        "id": "26TqUjgHsqoe"
      }
    },
    {
      "cell_type": "markdown",
      "source": [
        "## 3.3. Correlation between EBITDA and Market cap"
      ],
      "metadata": {
        "id": "IWxHRhWJZb3j"
      }
    },
    {
      "cell_type": "markdown",
      "source": [
        "###3.3.1.Hypothesis\n",
        "$H_o$ : There is no relationsihip between EBITDA and Market Cap\n",
        "\n",
        "$H_a$ : There is a relationship between EBITDA and Market Cap"
      ],
      "metadata": {
        "id": "ajVQBhwtz8XX"
      }
    },
    {
      "cell_type": "code",
      "source": [
        "import seaborn as sns\n",
        "import matplotlib.pyplot as plt\n",
        "\n",
        "sns.lmplot(data=sp500_df,\n",
        "            x = \"Market Cap\",\n",
        "            y = 'EBITDA',\n",
        "            ci=None)\n",
        "\n",
        "plt.title(\"Graph between EBITDA and Market cap\", pad=20)\n",
        "plt.show()"
      ],
      "metadata": {
        "id": "csDxp0uerWBe",
        "colab": {
          "base_uri": "https://localhost:8080/",
          "height": 388
        },
        "outputId": "6287eab7-9507-4c31-9a24-91e75575d4dc"
      },
      "execution_count": null,
      "outputs": [
        {
          "output_type": "display_data",
          "data": {
            "text/plain": [
              "<Figure size 360x360 with 1 Axes>"
            ],
            "image/png": "[encoded data removed]"
          },
          "metadata": {
            "needs_background": "light"
          }
        }
      ]
    },
    {
      "cell_type": "markdown",
      "source": [
        "This graph shows us when Full Time Employees values are increase, almost Market Cap values are increase. You can see how the values are distributed through the points on the graph."
      ],
      "metadata": {
        "id": "7vHbp_06t3n2"
      }
    },
    {
      "cell_type": "code",
      "source": [
        "# Remove nan, inf values in sp500_df['Market Cap', 'EBITDA'] for calculate p-value\n",
        "EBITDA_MarketCap=sp500_df[['Market Cap', 'EBITDA']].dropna()\n",
        "EBITDA_MarketCap\n",
        "\n",
        "x_data2 = EBITDA_MarketCap['Market Cap']\n",
        "y_data2 = EBITDA_MarketCap['EBITDA']\n",
        "\n",
        "x2 = pd.Series(x_data2)\n",
        "y2 = pd.Series(y_data2)\n",
        "\n",
        "pearson_r_xy2 = x2.corr(y2)\n",
        "print(round(pearson_r_xy2,3))\n",
        "\n",
        "pearson_r_yx2 = y2.corr(x2)\n",
        "print(round(pearson_r_yx2,3))\n",
        "\n",
        "print(f\"Pearson correlation coeffient between x and y, r = {round(pearson_r_xy2,3)}\")\n",
        "\n",
        "from scipy import stats\n",
        "import numpy as np\n",
        "\n",
        "pearson_corr2, p_value2 = stats.pearsonr(x_data2, y_data2)\n",
        "print(f'The pearson correlation coeffient is {round(pearson_corr2,3)}')\n",
        "print(f'The p-value is {round(p_value2)}')"
      ],
      "metadata": {
        "id": "tMjypEMe28wY",
        "colab": {
          "base_uri": "https://localhost:8080/"
        },
        "outputId": "7ad99add-c314-4247-e4e1-0dec6f2a7329"
      },
      "execution_count": null,
      "outputs": [
        {
          "output_type": "stream",
          "name": "stdout",
          "text": [
            "0.764\n",
            "0.764\n",
            "Pearson correlation coeffient between x and y, r = 0.764\n",
            "The pearson correlation coeffient is 0.764\n",
            "The p-value is 0\n"
          ]
        }
      ]
    },
    {
      "cell_type": "code",
      "source": [
        "CI_lo2, CI_hi2 = pearsonr_ci(x_data2, y_data2)\n",
        "print(f'The confidence interval of the Pearson correlation coefficient is ({round(CI_lo2,4)}, {round(CI_hi2,4)}).')"
      ],
      "metadata": {
        "id": "y6tytXAw3NZz",
        "colab": {
          "base_uri": "https://localhost:8080/"
        },
        "outputId": "34411fc0-89f0-4550-8884-f730b042f68c"
      },
      "execution_count": null,
      "outputs": [
        {
          "output_type": "stream",
          "name": "stdout",
          "text": [
            "The confidence interval of the Pearson correlation coefficient is (0.7223, 0.7994).\n"
          ]
        }
      ]
    },
    {
      "cell_type": "markdown",
      "source": [
        "We can get the range of Pearson correlation coefficient like this. And we can judge something using these. If we set the alpha level at 0.05, based on the p-value and the Pearson correlation coefficient, do we have enough evidence to show that 'EBITDA' is related to 'Market Cap'?\n",
        "\n",
        "The confidence interval tells us that, at 95% confidence level, the population Pearson correlation coefficient is between 0.7223 and 0.7994. This range is way above 0, which means that there is a positive relationship between Market Cap and EBITDA. And the p-value 0 is less than 0.05 (α level). That means we have enough evidence to reject the null (ie: There is a significant relationship between Market Cap and EBITDA).  "
      ],
      "metadata": {
        "id": "lhLNvj3Dt8jc"
      }
    },
    {
      "cell_type": "markdown",
      "source": [
        "-----------------"
      ],
      "metadata": {
        "id": "aLOEcyq8ui4m"
      }
    },
    {
      "cell_type": "markdown",
      "source": [
        "## 3.4. Correlation between Revenue and Market cap"
      ],
      "metadata": {
        "id": "NRGA_w4oZeWp"
      }
    },
    {
      "cell_type": "markdown",
      "source": [
        "### 3.4.1.Hypothesis\n",
        "$H_o$ : There is no relationship between Revenue and Market Cap\n",
        "\n",
        "$H_a$ : There is a relationship between Revenue and Market Cap"
      ],
      "metadata": {
        "id": "eGOD-IVApzs0"
      }
    },
    {
      "cell_type": "code",
      "source": [
        "import seaborn as sns\n",
        "import matplotlib.pyplot as plt\n",
        "\n",
        "sns.lmplot(data=sp500_df,\n",
        "            x = \"Market Cap\",\n",
        "            y = 'Revenue',\n",
        "            ci=None)\n",
        "\n",
        "plt.title(\"Graph between Revenue and Market cap\", pad=20)\n",
        "plt.show()"
      ],
      "metadata": {
        "id": "elX6BTWSrb6w",
        "colab": {
          "base_uri": "https://localhost:8080/",
          "height": 397
        },
        "outputId": "eedad543-324d-4e6e-d3a6-71e454a4a73f"
      },
      "execution_count": null,
      "outputs": [
        {
          "output_type": "display_data",
          "data": {
            "text/plain": [
              "<Figure size 360x360 with 1 Axes>"
            ],
            "image/png": "[encoded data removed]"
          },
          "metadata": {
            "needs_background": "light"
          }
        }
      ]
    },
    {
      "cell_type": "markdown",
      "source": [
        "This graph shows us when Full Time Employees values are increase, almost Market Cap values are increase. You can see how the values are distributed through the points on the graph."
      ],
      "metadata": {
        "id": "e95vvI0ruPD8"
      }
    },
    {
      "cell_type": "code",
      "source": [
        "# Remove nan, inf values in sp500_df['Market Cap', 'Revenue'] for calculate p-value\n",
        "Revenue_MarketCap=sp500_df[['Market Cap', 'Revenue']].dropna()\n",
        "Revenue_MarketCap\n",
        "\n",
        "x_data3 = Revenue_MarketCap['Market Cap']\n",
        "y_data3 = Revenue_MarketCap['Revenue']\n",
        "\n",
        "x3 = pd.Series(x_data3)\n",
        "y3 = pd.Series(y_data3)\n",
        "\n",
        "pearson_r_xy3 = x3.corr(y3)\n",
        "print(round(pearson_r_xy3,3))\n",
        "\n",
        "pearson_r_yx3 = y3.corr(x3)\n",
        "print(round(pearson_r_yx3,3))\n",
        "\n",
        "print(f\"Pearson correlation coeffient between x and y, r = {round(pearson_r_xy3,3)}\")\n",
        "\n",
        "from scipy import stats\n",
        "import numpy as np\n",
        "\n",
        "pearson_corr3, p_value3 = stats.pearsonr(x_data3, y_data3)\n",
        "print(f'The pearson correlation coeffient is {round(pearson_corr3,3)}')\n",
        "print(f'The p-value is {round(p_value3)}')"
      ],
      "metadata": {
        "id": "kacz40ZI4OSV",
        "colab": {
          "base_uri": "https://localhost:8080/"
        },
        "outputId": "fca188dd-8568-4f80-8b16-46720ec7f272"
      },
      "execution_count": null,
      "outputs": [
        {
          "output_type": "stream",
          "name": "stdout",
          "text": [
            "-0.032\n",
            "-0.032\n",
            "Pearson correlation coeffient between x and y, r = -0.032\n",
            "The pearson correlation coeffient is -0.032\n",
            "The p-value is 0\n"
          ]
        }
      ]
    },
    {
      "cell_type": "markdown",
      "source": [
        "Based on the r value, -0.032, it appears that there is a weak negative relationship between Market Cap and Revenue."
      ],
      "metadata": {
        "id": "JeaeF6Fc5b8c"
      }
    },
    {
      "cell_type": "code",
      "source": [
        "CI_lo3, CI_hi3 = pearsonr_ci(x_data3, y_data3)\n",
        "print(f'The confidence interval of the Pearson correlation coefficient is ({round(CI_lo3,4)}, {round(CI_hi3,4)}).')"
      ],
      "metadata": {
        "id": "qoh8DcSE5uCt",
        "colab": {
          "base_uri": "https://localhost:8080/"
        },
        "outputId": "c384377b-f02e-4546-d09b-8dcb1b8d9e19"
      },
      "execution_count": null,
      "outputs": [
        {
          "output_type": "stream",
          "name": "stdout",
          "text": [
            "The confidence interval of the Pearson correlation coefficient is (-0.1205, 0.0577).\n"
          ]
        }
      ]
    },
    {
      "cell_type": "markdown",
      "source": [
        "We can get the range of Pearson correlation coefficient like this. And we can judge something using these. If we set the alpha level at 0.05, based on the p-value and the Pearson correlation coefficient, do we have enough evidence to show that 'Revenue' is related to 'Market Cap'?\n",
        "\n",
        "The confidence interval tells us that, at 95% confidence level, the population Pearson correlation coefficient is between -0.1205 and 0.0577. This all range isn't way above 0, which means that there is a negative relationship between Market Cap and Revenue. And the p-value 0 is less than 0.05 (α level). That means we have enough evidence to reject the null (ie: There is a significant relationship between Market Cap and Revenue)."
      ],
      "metadata": {
        "id": "d8N1UwxxuUyZ"
      }
    },
    {
      "cell_type": "markdown",
      "source": [
        "-----------------------"
      ],
      "metadata": {
        "id": "Ags-5YV2ukeU"
      }
    },
    {
      "cell_type": "markdown",
      "source": [
        "##3.5.Which correlation is stronger? (Compare three relationships)\n",
        "\n",
        "The closer to 1 or -1, the stronger the relationship. So, 'EBITDA and Market Cap is the strongest relationship and second is 'Full Time Employees and Market Cap', The last one is ‘Revenue and Market Cap'"
      ],
      "metadata": {
        "id": "iCORH_OZuYJq"
      }
    },
    {
      "cell_type": "markdown",
      "source": [
        "----------------------"
      ],
      "metadata": {
        "id": "HhaBl6nZueVj"
      }
    },
    {
      "cell_type": "markdown",
      "source": [
        "#4. Conclusion\n",
        "\n",
        "  Through data analysis, it was confirmed that the item with the highest average of Market Cap among Sectors was Communication Services. Technology, which was expected to have the highest Market Cap average, had the second highest average value. Based on rounding off at the second decimal place, the Communication Service was 1.7×e11\n",
        "and Technology was 1.13×e11, which was 1.5 times different.\n",
        "\n",
        "\n",
        "Through data analysis, it was confirmed that Nebraska was the item with the highest average of Market Cap among States. The CA that was expected to have the highest Market Cap average was the 12th. Based on rounding off at the second decimal place, Nebraska was 3.94×e11\n",
        ", and California was 5.78×e10, which was 6.82 times different.\n",
        "\n",
        "\n",
        "  As a result of analyzing the data using Visualizing Data with Graphs and Correlation, it was found that EBITDA and Market cap (r=0.764) > Full Time Employees and Market Cap (r=0.764) > Revenues and Market Cap (r=-0.032) had strong relationships in the order. The intensity of this relationship is not affected by negative positive numbers, but the closure to 1 or -1, the stronger the relationship   \n",
        "\n",
        "\n",
        "  Through this project, we were able to understand Python better through frequent errors during the test. We were able to understand the content more while trying to create loop statements based on our own needs. We also found that testing requires consideration of several conditions. Several tests initially attempted were not attempted due to many conditions. Through these processes, in analyzing the data, we were able to learn how to properly test. It was a good experience because we could apply more of what we learned while taking class 22A.\n",
        "\n",
        ""
      ],
      "metadata": {
        "id": "aWxrIvXDumJz"
      }
    }
  ]
}